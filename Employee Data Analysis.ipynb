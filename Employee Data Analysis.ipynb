{
 "cells": [
  {
   "cell_type": "code",
   "execution_count": 1,
   "id": "22c91548",
   "metadata": {},
   "outputs": [],
   "source": [
    "import pandas as pd\n",
    "import matplotlib.pyplot as plt"
   ]
  },
  {
   "cell_type": "code",
   "execution_count": 6,
   "id": "3374ad27",
   "metadata": {},
   "outputs": [],
   "source": [
    "df= pd.read_csv('employee.csv')"
   ]
  },
  {
   "cell_type": "code",
   "execution_count": 7,
   "id": "891cc9b1",
   "metadata": {},
   "outputs": [
    {
     "data": {
      "text/html": [
       "<div>\n",
       "<style scoped>\n",
       "    .dataframe tbody tr th:only-of-type {\n",
       "        vertical-align: middle;\n",
       "    }\n",
       "\n",
       "    .dataframe tbody tr th {\n",
       "        vertical-align: top;\n",
       "    }\n",
       "\n",
       "    .dataframe thead th {\n",
       "        text-align: right;\n",
       "    }\n",
       "</style>\n",
       "<table border=\"1\" class=\"dataframe\">\n",
       "  <thead>\n",
       "    <tr style=\"text-align: right;\">\n",
       "      <th></th>\n",
       "      <th>UNIQUE_ID</th>\n",
       "      <th>BASE_SALARY</th>\n",
       "    </tr>\n",
       "  </thead>\n",
       "  <tbody>\n",
       "    <tr>\n",
       "      <th>count</th>\n",
       "      <td>2000.000000</td>\n",
       "      <td>1886.000000</td>\n",
       "    </tr>\n",
       "    <tr>\n",
       "      <th>mean</th>\n",
       "      <td>999.500000</td>\n",
       "      <td>55767.931601</td>\n",
       "    </tr>\n",
       "    <tr>\n",
       "      <th>std</th>\n",
       "      <td>577.494589</td>\n",
       "      <td>21693.706679</td>\n",
       "    </tr>\n",
       "    <tr>\n",
       "      <th>min</th>\n",
       "      <td>0.000000</td>\n",
       "      <td>24960.000000</td>\n",
       "    </tr>\n",
       "    <tr>\n",
       "      <th>25%</th>\n",
       "      <td>499.750000</td>\n",
       "      <td>40170.000000</td>\n",
       "    </tr>\n",
       "    <tr>\n",
       "      <th>50%</th>\n",
       "      <td>999.500000</td>\n",
       "      <td>54461.000000</td>\n",
       "    </tr>\n",
       "    <tr>\n",
       "      <th>75%</th>\n",
       "      <td>1499.250000</td>\n",
       "      <td>66614.000000</td>\n",
       "    </tr>\n",
       "    <tr>\n",
       "      <th>max</th>\n",
       "      <td>1999.000000</td>\n",
       "      <td>275000.000000</td>\n",
       "    </tr>\n",
       "  </tbody>\n",
       "</table>\n",
       "</div>"
      ],
      "text/plain": [
       "         UNIQUE_ID    BASE_SALARY\n",
       "count  2000.000000    1886.000000\n",
       "mean    999.500000   55767.931601\n",
       "std     577.494589   21693.706679\n",
       "min       0.000000   24960.000000\n",
       "25%     499.750000   40170.000000\n",
       "50%     999.500000   54461.000000\n",
       "75%    1499.250000   66614.000000\n",
       "max    1999.000000  275000.000000"
      ]
     },
     "execution_count": 7,
     "metadata": {},
     "output_type": "execute_result"
    }
   ],
   "source": [
    "df.describe()"
   ]
  },
  {
   "cell_type": "code",
   "execution_count": 8,
   "id": "f3eb5994",
   "metadata": {},
   "outputs": [
    {
     "data": {
      "text/html": [
       "<div>\n",
       "<style scoped>\n",
       "    .dataframe tbody tr th:only-of-type {\n",
       "        vertical-align: middle;\n",
       "    }\n",
       "\n",
       "    .dataframe tbody tr th {\n",
       "        vertical-align: top;\n",
       "    }\n",
       "\n",
       "    .dataframe thead th {\n",
       "        text-align: right;\n",
       "    }\n",
       "</style>\n",
       "<table border=\"1\" class=\"dataframe\">\n",
       "  <thead>\n",
       "    <tr style=\"text-align: right;\">\n",
       "      <th></th>\n",
       "      <th>UNIQUE_ID</th>\n",
       "      <th>POSITION_TITLE</th>\n",
       "      <th>DEPARTMENT</th>\n",
       "      <th>BASE_SALARY</th>\n",
       "      <th>RACE</th>\n",
       "      <th>EMPLOYMENT_TYPE</th>\n",
       "      <th>GENDER</th>\n",
       "      <th>EMPLOYMENT_STATUS</th>\n",
       "      <th>HIRE_DATE</th>\n",
       "      <th>JOB_DATE</th>\n",
       "    </tr>\n",
       "  </thead>\n",
       "  <tbody>\n",
       "    <tr>\n",
       "      <th>0</th>\n",
       "      <td>0</td>\n",
       "      <td>ASSISTANT DIRECTOR (EX LVL)</td>\n",
       "      <td>Municipal Courts Department</td>\n",
       "      <td>121862.0</td>\n",
       "      <td>Hispanic/Latino</td>\n",
       "      <td>Full Time</td>\n",
       "      <td>Female</td>\n",
       "      <td>Active</td>\n",
       "      <td>2006-06-12</td>\n",
       "      <td>2012-10-13</td>\n",
       "    </tr>\n",
       "    <tr>\n",
       "      <th>1</th>\n",
       "      <td>1</td>\n",
       "      <td>LIBRARY ASSISTANT</td>\n",
       "      <td>Library</td>\n",
       "      <td>26125.0</td>\n",
       "      <td>Hispanic/Latino</td>\n",
       "      <td>Full Time</td>\n",
       "      <td>Female</td>\n",
       "      <td>Active</td>\n",
       "      <td>2000-07-19</td>\n",
       "      <td>2010-09-18</td>\n",
       "    </tr>\n",
       "    <tr>\n",
       "      <th>2</th>\n",
       "      <td>2</td>\n",
       "      <td>POLICE OFFICER</td>\n",
       "      <td>Houston Police Department-HPD</td>\n",
       "      <td>45279.0</td>\n",
       "      <td>White</td>\n",
       "      <td>Full Time</td>\n",
       "      <td>Male</td>\n",
       "      <td>Active</td>\n",
       "      <td>2015-02-03</td>\n",
       "      <td>2015-02-03</td>\n",
       "    </tr>\n",
       "    <tr>\n",
       "      <th>3</th>\n",
       "      <td>3</td>\n",
       "      <td>ENGINEER/OPERATOR</td>\n",
       "      <td>Houston Fire Department (HFD)</td>\n",
       "      <td>63166.0</td>\n",
       "      <td>White</td>\n",
       "      <td>Full Time</td>\n",
       "      <td>Male</td>\n",
       "      <td>Active</td>\n",
       "      <td>1982-02-08</td>\n",
       "      <td>1991-05-25</td>\n",
       "    </tr>\n",
       "    <tr>\n",
       "      <th>4</th>\n",
       "      <td>4</td>\n",
       "      <td>ELECTRICIAN</td>\n",
       "      <td>General Services Department</td>\n",
       "      <td>56347.0</td>\n",
       "      <td>White</td>\n",
       "      <td>Full Time</td>\n",
       "      <td>Male</td>\n",
       "      <td>Active</td>\n",
       "      <td>1989-06-19</td>\n",
       "      <td>1994-10-22</td>\n",
       "    </tr>\n",
       "    <tr>\n",
       "      <th>...</th>\n",
       "      <td>...</td>\n",
       "      <td>...</td>\n",
       "      <td>...</td>\n",
       "      <td>...</td>\n",
       "      <td>...</td>\n",
       "      <td>...</td>\n",
       "      <td>...</td>\n",
       "      <td>...</td>\n",
       "      <td>...</td>\n",
       "      <td>...</td>\n",
       "    </tr>\n",
       "    <tr>\n",
       "      <th>1995</th>\n",
       "      <td>1995</td>\n",
       "      <td>POLICE OFFICER</td>\n",
       "      <td>Houston Police Department-HPD</td>\n",
       "      <td>43443.0</td>\n",
       "      <td>White</td>\n",
       "      <td>Full Time</td>\n",
       "      <td>Male</td>\n",
       "      <td>Active</td>\n",
       "      <td>2014-06-09</td>\n",
       "      <td>2015-06-09</td>\n",
       "    </tr>\n",
       "    <tr>\n",
       "      <th>1996</th>\n",
       "      <td>1996</td>\n",
       "      <td>COMMUNICATIONS CAPTAIN</td>\n",
       "      <td>Houston Fire Department (HFD)</td>\n",
       "      <td>66523.0</td>\n",
       "      <td>Black or African American</td>\n",
       "      <td>Full Time</td>\n",
       "      <td>Male</td>\n",
       "      <td>Active</td>\n",
       "      <td>2003-09-02</td>\n",
       "      <td>2013-10-06</td>\n",
       "    </tr>\n",
       "    <tr>\n",
       "      <th>1997</th>\n",
       "      <td>1997</td>\n",
       "      <td>POLICE OFFICER</td>\n",
       "      <td>Houston Police Department-HPD</td>\n",
       "      <td>43443.0</td>\n",
       "      <td>White</td>\n",
       "      <td>Full Time</td>\n",
       "      <td>Male</td>\n",
       "      <td>Active</td>\n",
       "      <td>2014-10-13</td>\n",
       "      <td>2015-10-13</td>\n",
       "    </tr>\n",
       "    <tr>\n",
       "      <th>1998</th>\n",
       "      <td>1998</td>\n",
       "      <td>POLICE OFFICER</td>\n",
       "      <td>Houston Police Department-HPD</td>\n",
       "      <td>55461.0</td>\n",
       "      <td>Asian/Pacific Islander</td>\n",
       "      <td>Full Time</td>\n",
       "      <td>Male</td>\n",
       "      <td>Active</td>\n",
       "      <td>2009-01-20</td>\n",
       "      <td>2011-07-02</td>\n",
       "    </tr>\n",
       "    <tr>\n",
       "      <th>1999</th>\n",
       "      <td>1999</td>\n",
       "      <td>FIRE FIGHTER</td>\n",
       "      <td>Houston Fire Department (HFD)</td>\n",
       "      <td>51194.0</td>\n",
       "      <td>Hispanic/Latino</td>\n",
       "      <td>Full Time</td>\n",
       "      <td>Male</td>\n",
       "      <td>Active</td>\n",
       "      <td>2009-01-12</td>\n",
       "      <td>2010-07-12</td>\n",
       "    </tr>\n",
       "  </tbody>\n",
       "</table>\n",
       "<p>2000 rows × 10 columns</p>\n",
       "</div>"
      ],
      "text/plain": [
       "      UNIQUE_ID               POSITION_TITLE                     DEPARTMENT  \\\n",
       "0             0  ASSISTANT DIRECTOR (EX LVL)    Municipal Courts Department   \n",
       "1             1            LIBRARY ASSISTANT                        Library   \n",
       "2             2               POLICE OFFICER  Houston Police Department-HPD   \n",
       "3             3            ENGINEER/OPERATOR  Houston Fire Department (HFD)   \n",
       "4             4                  ELECTRICIAN    General Services Department   \n",
       "...         ...                          ...                            ...   \n",
       "1995       1995               POLICE OFFICER  Houston Police Department-HPD   \n",
       "1996       1996       COMMUNICATIONS CAPTAIN  Houston Fire Department (HFD)   \n",
       "1997       1997               POLICE OFFICER  Houston Police Department-HPD   \n",
       "1998       1998               POLICE OFFICER  Houston Police Department-HPD   \n",
       "1999       1999                 FIRE FIGHTER  Houston Fire Department (HFD)   \n",
       "\n",
       "      BASE_SALARY                       RACE EMPLOYMENT_TYPE  GENDER  \\\n",
       "0        121862.0            Hispanic/Latino       Full Time  Female   \n",
       "1         26125.0            Hispanic/Latino       Full Time  Female   \n",
       "2         45279.0                      White       Full Time    Male   \n",
       "3         63166.0                      White       Full Time    Male   \n",
       "4         56347.0                      White       Full Time    Male   \n",
       "...           ...                        ...             ...     ...   \n",
       "1995      43443.0                      White       Full Time    Male   \n",
       "1996      66523.0  Black or African American       Full Time    Male   \n",
       "1997      43443.0                      White       Full Time    Male   \n",
       "1998      55461.0     Asian/Pacific Islander       Full Time    Male   \n",
       "1999      51194.0            Hispanic/Latino       Full Time    Male   \n",
       "\n",
       "     EMPLOYMENT_STATUS   HIRE_DATE    JOB_DATE  \n",
       "0               Active  2006-06-12  2012-10-13  \n",
       "1               Active  2000-07-19  2010-09-18  \n",
       "2               Active  2015-02-03  2015-02-03  \n",
       "3               Active  1982-02-08  1991-05-25  \n",
       "4               Active  1989-06-19  1994-10-22  \n",
       "...                ...         ...         ...  \n",
       "1995            Active  2014-06-09  2015-06-09  \n",
       "1996            Active  2003-09-02  2013-10-06  \n",
       "1997            Active  2014-10-13  2015-10-13  \n",
       "1998            Active  2009-01-20  2011-07-02  \n",
       "1999            Active  2009-01-12  2010-07-12  \n",
       "\n",
       "[2000 rows x 10 columns]"
      ]
     },
     "execution_count": 8,
     "metadata": {},
     "output_type": "execute_result"
    }
   ],
   "source": [
    "df"
   ]
  },
  {
   "cell_type": "code",
   "execution_count": 9,
   "id": "d5cf61d1",
   "metadata": {},
   "outputs": [
    {
     "name": "stdout",
     "output_type": "stream",
     "text": [
      "<class 'pandas.core.frame.DataFrame'>\n",
      "RangeIndex: 2000 entries, 0 to 1999\n",
      "Data columns (total 10 columns):\n",
      " #   Column             Non-Null Count  Dtype  \n",
      "---  ------             --------------  -----  \n",
      " 0   UNIQUE_ID          2000 non-null   int64  \n",
      " 1   POSITION_TITLE     2000 non-null   object \n",
      " 2   DEPARTMENT         2000 non-null   object \n",
      " 3   BASE_SALARY        1886 non-null   float64\n",
      " 4   RACE               1965 non-null   object \n",
      " 5   EMPLOYMENT_TYPE    2000 non-null   object \n",
      " 6   GENDER             2000 non-null   object \n",
      " 7   EMPLOYMENT_STATUS  2000 non-null   object \n",
      " 8   HIRE_DATE          2000 non-null   object \n",
      " 9   JOB_DATE           1997 non-null   object \n",
      "dtypes: float64(1), int64(1), object(8)\n",
      "memory usage: 156.4+ KB\n"
     ]
    }
   ],
   "source": [
    "df.info()"
   ]
  },
  {
   "cell_type": "code",
   "execution_count": 10,
   "id": "4578b563",
   "metadata": {},
   "outputs": [
    {
     "data": {
      "text/plain": [
       "UNIQUE_ID              0\n",
       "POSITION_TITLE         0\n",
       "DEPARTMENT             0\n",
       "BASE_SALARY          114\n",
       "RACE                  35\n",
       "EMPLOYMENT_TYPE        0\n",
       "GENDER                 0\n",
       "EMPLOYMENT_STATUS      0\n",
       "HIRE_DATE              0\n",
       "JOB_DATE               3\n",
       "dtype: int64"
      ]
     },
     "execution_count": 10,
     "metadata": {},
     "output_type": "execute_result"
    }
   ],
   "source": [
    "df.isna().sum()"
   ]
  },
  {
   "cell_type": "code",
   "execution_count": 11,
   "id": "561a7873",
   "metadata": {},
   "outputs": [],
   "source": [
    "df1=df.copy()"
   ]
  },
  {
   "cell_type": "code",
   "execution_count": 12,
   "id": "24a61bf1",
   "metadata": {},
   "outputs": [],
   "source": [
    "# filling missing values in base salary column using mean\n",
    "df1['BASE_SALARY'].mean()\n",
    "mean_base_salary= df1['BASE_SALARY'].mean()\n",
    "df1['BASE_SALARY'].fillna(mean_base_salary, inplace=True)"
   ]
  },
  {
   "cell_type": "code",
   "execution_count": 13,
   "id": "e6e83494",
   "metadata": {},
   "outputs": [],
   "source": [
    "# filling the missing values in race column using mode\n",
    "mode_race= df1['RACE'].mode()[0]\n",
    "df1['RACE'].fillna(mode_race, inplace= True)"
   ]
  },
  {
   "cell_type": "code",
   "execution_count": 14,
   "id": "0fed3dc8",
   "metadata": {},
   "outputs": [],
   "source": [
    "# filling the missing values in the job date column using mode\n",
    "mode_job_date=df1['JOB_DATE'].mode()[0]\n",
    "df1['JOB_DATE'].fillna(mode_job_date, inplace=True)"
   ]
  },
  {
   "cell_type": "code",
   "execution_count": 15,
   "id": "70910e9e",
   "metadata": {},
   "outputs": [
    {
     "name": "stdout",
     "output_type": "stream",
     "text": [
      "<class 'pandas.core.frame.DataFrame'>\n",
      "RangeIndex: 2000 entries, 0 to 1999\n",
      "Data columns (total 10 columns):\n",
      " #   Column             Non-Null Count  Dtype  \n",
      "---  ------             --------------  -----  \n",
      " 0   UNIQUE_ID          2000 non-null   int64  \n",
      " 1   POSITION_TITLE     2000 non-null   object \n",
      " 2   DEPARTMENT         2000 non-null   object \n",
      " 3   BASE_SALARY        2000 non-null   float64\n",
      " 4   RACE               2000 non-null   object \n",
      " 5   EMPLOYMENT_TYPE    2000 non-null   object \n",
      " 6   GENDER             2000 non-null   object \n",
      " 7   EMPLOYMENT_STATUS  2000 non-null   object \n",
      " 8   HIRE_DATE          2000 non-null   object \n",
      " 9   JOB_DATE           2000 non-null   object \n",
      "dtypes: float64(1), int64(1), object(8)\n",
      "memory usage: 156.4+ KB\n"
     ]
    }
   ],
   "source": [
    "df1.info()"
   ]
  },
  {
   "cell_type": "markdown",
   "id": "67746375",
   "metadata": {},
   "source": [
    "# Distribution by Race/Ethnicity"
   ]
  },
  {
   "cell_type": "code",
   "execution_count": 16,
   "id": "2944beb5",
   "metadata": {},
   "outputs": [
    {
     "data": {
      "text/plain": [
       "Black or African American            735\n",
       "White                                665\n",
       "Hispanic/Latino                      480\n",
       "Asian/Pacific Islander               107\n",
       "American Indian or Alaskan Native     11\n",
       "Others                                 2\n",
       "Name: RACE, dtype: int64"
      ]
     },
     "execution_count": 16,
     "metadata": {},
     "output_type": "execute_result"
    }
   ],
   "source": [
    "#What is the racial/ethnic composition of the workforce?\n",
    "df1['RACE'].value_counts()"
   ]
  },
  {
   "cell_type": "code",
   "execution_count": 17,
   "id": "e6453173",
   "metadata": {},
   "outputs": [],
   "source": [
    "racial_count= df1['RACE'].value_counts()"
   ]
  },
  {
   "cell_type": "code",
   "execution_count": 18,
   "id": "e6283900",
   "metadata": {},
   "outputs": [
    {
     "data": {
      "text/plain": [
       "2000"
      ]
     },
     "execution_count": 18,
     "metadata": {},
     "output_type": "execute_result"
    }
   ],
   "source": [
    "#total individual\n",
    "len(df1)"
   ]
  },
  {
   "cell_type": "code",
   "execution_count": 19,
   "id": "1e163bad",
   "metadata": {},
   "outputs": [],
   "source": [
    "total_individuals= len(df1)"
   ]
  },
  {
   "cell_type": "code",
   "execution_count": 20,
   "id": "42c61794",
   "metadata": {},
   "outputs": [
    {
     "data": {
      "text/plain": [
       "Black or African American            36.75\n",
       "White                                33.25\n",
       "Hispanic/Latino                      24.00\n",
       "Asian/Pacific Islander                5.35\n",
       "American Indian or Alaskan Native     0.55\n",
       "Others                                0.10\n",
       "Name: RACE, dtype: float64"
      ]
     },
     "execution_count": 20,
     "metadata": {},
     "output_type": "execute_result"
    }
   ],
   "source": [
    "#race percentages \n",
    "(racial_count / total_individuals) * 100"
   ]
  },
  {
   "cell_type": "code",
   "execution_count": 21,
   "id": "825bced7",
   "metadata": {},
   "outputs": [],
   "source": [
    "race_percentages= (racial_count / total_individuals) * 100"
   ]
  },
  {
   "cell_type": "code",
   "execution_count": 22,
   "id": "fa4e7c4f",
   "metadata": {},
   "outputs": [
    {
     "data": {
      "text/html": [
       "<div>\n",
       "<style scoped>\n",
       "    .dataframe tbody tr th:only-of-type {\n",
       "        vertical-align: middle;\n",
       "    }\n",
       "\n",
       "    .dataframe tbody tr th {\n",
       "        vertical-align: top;\n",
       "    }\n",
       "\n",
       "    .dataframe thead th {\n",
       "        text-align: right;\n",
       "    }\n",
       "</style>\n",
       "<table border=\"1\" class=\"dataframe\">\n",
       "  <thead>\n",
       "    <tr style=\"text-align: right;\">\n",
       "      <th>RACE</th>\n",
       "      <th>American Indian or Alaskan Native</th>\n",
       "      <th>Asian/Pacific Islander</th>\n",
       "      <th>Black or African American</th>\n",
       "      <th>Hispanic/Latino</th>\n",
       "      <th>Others</th>\n",
       "      <th>White</th>\n",
       "    </tr>\n",
       "    <tr>\n",
       "      <th>DEPARTMENT</th>\n",
       "      <th></th>\n",
       "      <th></th>\n",
       "      <th></th>\n",
       "      <th></th>\n",
       "      <th></th>\n",
       "      <th></th>\n",
       "    </tr>\n",
       "  </thead>\n",
       "  <tbody>\n",
       "    <tr>\n",
       "      <th>Admn. &amp; Regulatory Affairs</th>\n",
       "      <td>0</td>\n",
       "      <td>3</td>\n",
       "      <td>15</td>\n",
       "      <td>6</td>\n",
       "      <td>0</td>\n",
       "      <td>5</td>\n",
       "    </tr>\n",
       "    <tr>\n",
       "      <th>City Controller's Office</th>\n",
       "      <td>0</td>\n",
       "      <td>1</td>\n",
       "      <td>3</td>\n",
       "      <td>1</td>\n",
       "      <td>0</td>\n",
       "      <td>0</td>\n",
       "    </tr>\n",
       "    <tr>\n",
       "      <th>City Council</th>\n",
       "      <td>0</td>\n",
       "      <td>0</td>\n",
       "      <td>5</td>\n",
       "      <td>2</td>\n",
       "      <td>0</td>\n",
       "      <td>4</td>\n",
       "    </tr>\n",
       "    <tr>\n",
       "      <th>Convention and Entertainment</th>\n",
       "      <td>0</td>\n",
       "      <td>0</td>\n",
       "      <td>0</td>\n",
       "      <td>1</td>\n",
       "      <td>0</td>\n",
       "      <td>0</td>\n",
       "    </tr>\n",
       "    <tr>\n",
       "      <th>Dept of Neighborhoods (DON)</th>\n",
       "      <td>1</td>\n",
       "      <td>0</td>\n",
       "      <td>10</td>\n",
       "      <td>5</td>\n",
       "      <td>0</td>\n",
       "      <td>1</td>\n",
       "    </tr>\n",
       "    <tr>\n",
       "      <th>Finance</th>\n",
       "      <td>0</td>\n",
       "      <td>0</td>\n",
       "      <td>6</td>\n",
       "      <td>4</td>\n",
       "      <td>0</td>\n",
       "      <td>0</td>\n",
       "    </tr>\n",
       "    <tr>\n",
       "      <th>Fleet Management Department</th>\n",
       "      <td>0</td>\n",
       "      <td>1</td>\n",
       "      <td>16</td>\n",
       "      <td>9</td>\n",
       "      <td>0</td>\n",
       "      <td>10</td>\n",
       "    </tr>\n",
       "    <tr>\n",
       "      <th>General Services Department</th>\n",
       "      <td>0</td>\n",
       "      <td>0</td>\n",
       "      <td>5</td>\n",
       "      <td>10</td>\n",
       "      <td>0</td>\n",
       "      <td>7</td>\n",
       "    </tr>\n",
       "    <tr>\n",
       "      <th>Health &amp; Human Services</th>\n",
       "      <td>3</td>\n",
       "      <td>11</td>\n",
       "      <td>55</td>\n",
       "      <td>27</td>\n",
       "      <td>2</td>\n",
       "      <td>12</td>\n",
       "    </tr>\n",
       "    <tr>\n",
       "      <th>Housing and Community Devp.</th>\n",
       "      <td>1</td>\n",
       "      <td>2</td>\n",
       "      <td>12</td>\n",
       "      <td>3</td>\n",
       "      <td>0</td>\n",
       "      <td>4</td>\n",
       "    </tr>\n",
       "    <tr>\n",
       "      <th>Houston Airport System (HAS)</th>\n",
       "      <td>1</td>\n",
       "      <td>6</td>\n",
       "      <td>43</td>\n",
       "      <td>30</td>\n",
       "      <td>0</td>\n",
       "      <td>26</td>\n",
       "    </tr>\n",
       "    <tr>\n",
       "      <th>Houston Emergency Center (HEC)</th>\n",
       "      <td>0</td>\n",
       "      <td>0</td>\n",
       "      <td>14</td>\n",
       "      <td>6</td>\n",
       "      <td>0</td>\n",
       "      <td>3</td>\n",
       "    </tr>\n",
       "    <tr>\n",
       "      <th>Houston Fire Department (HFD)</th>\n",
       "      <td>1</td>\n",
       "      <td>1</td>\n",
       "      <td>74</td>\n",
       "      <td>99</td>\n",
       "      <td>0</td>\n",
       "      <td>209</td>\n",
       "    </tr>\n",
       "    <tr>\n",
       "      <th>Houston Information Tech Svcs</th>\n",
       "      <td>0</td>\n",
       "      <td>2</td>\n",
       "      <td>1</td>\n",
       "      <td>2</td>\n",
       "      <td>0</td>\n",
       "      <td>4</td>\n",
       "    </tr>\n",
       "    <tr>\n",
       "      <th>Houston Police Department-HPD</th>\n",
       "      <td>3</td>\n",
       "      <td>39</td>\n",
       "      <td>176</td>\n",
       "      <td>151</td>\n",
       "      <td>0</td>\n",
       "      <td>269</td>\n",
       "    </tr>\n",
       "    <tr>\n",
       "      <th>Human Resources Dept.</th>\n",
       "      <td>0</td>\n",
       "      <td>1</td>\n",
       "      <td>16</td>\n",
       "      <td>3</td>\n",
       "      <td>0</td>\n",
       "      <td>4</td>\n",
       "    </tr>\n",
       "    <tr>\n",
       "      <th>Legal Department</th>\n",
       "      <td>0</td>\n",
       "      <td>2</td>\n",
       "      <td>4</td>\n",
       "      <td>3</td>\n",
       "      <td>0</td>\n",
       "      <td>8</td>\n",
       "    </tr>\n",
       "    <tr>\n",
       "      <th>Library</th>\n",
       "      <td>1</td>\n",
       "      <td>3</td>\n",
       "      <td>18</td>\n",
       "      <td>9</td>\n",
       "      <td>0</td>\n",
       "      <td>5</td>\n",
       "    </tr>\n",
       "    <tr>\n",
       "      <th>Mayor's Office</th>\n",
       "      <td>0</td>\n",
       "      <td>1</td>\n",
       "      <td>1</td>\n",
       "      <td>1</td>\n",
       "      <td>0</td>\n",
       "      <td>2</td>\n",
       "    </tr>\n",
       "    <tr>\n",
       "      <th>Municipal Courts Department</th>\n",
       "      <td>0</td>\n",
       "      <td>1</td>\n",
       "      <td>15</td>\n",
       "      <td>7</td>\n",
       "      <td>0</td>\n",
       "      <td>5</td>\n",
       "    </tr>\n",
       "    <tr>\n",
       "      <th>Parks &amp; Recreation</th>\n",
       "      <td>0</td>\n",
       "      <td>2</td>\n",
       "      <td>43</td>\n",
       "      <td>20</td>\n",
       "      <td>0</td>\n",
       "      <td>9</td>\n",
       "    </tr>\n",
       "    <tr>\n",
       "      <th>Planning &amp; Development</th>\n",
       "      <td>0</td>\n",
       "      <td>1</td>\n",
       "      <td>1</td>\n",
       "      <td>3</td>\n",
       "      <td>0</td>\n",
       "      <td>2</td>\n",
       "    </tr>\n",
       "    <tr>\n",
       "      <th>Public Works &amp; Engineering-PWE</th>\n",
       "      <td>0</td>\n",
       "      <td>29</td>\n",
       "      <td>171</td>\n",
       "      <td>68</td>\n",
       "      <td>0</td>\n",
       "      <td>75</td>\n",
       "    </tr>\n",
       "    <tr>\n",
       "      <th>Solid Waste Management</th>\n",
       "      <td>0</td>\n",
       "      <td>1</td>\n",
       "      <td>31</td>\n",
       "      <td>10</td>\n",
       "      <td>0</td>\n",
       "      <td>1</td>\n",
       "    </tr>\n",
       "  </tbody>\n",
       "</table>\n",
       "</div>"
      ],
      "text/plain": [
       "RACE                            American Indian or Alaskan Native  \\\n",
       "DEPARTMENT                                                          \n",
       "Admn. & Regulatory Affairs                                      0   \n",
       "City Controller's Office                                        0   \n",
       "City Council                                                    0   \n",
       "Convention and Entertainment                                    0   \n",
       "Dept of Neighborhoods (DON)                                     1   \n",
       "Finance                                                         0   \n",
       "Fleet Management Department                                     0   \n",
       "General Services Department                                     0   \n",
       "Health & Human Services                                         3   \n",
       "Housing and Community Devp.                                     1   \n",
       "Houston Airport System (HAS)                                    1   \n",
       "Houston Emergency Center (HEC)                                  0   \n",
       "Houston Fire Department (HFD)                                   1   \n",
       "Houston Information Tech Svcs                                   0   \n",
       "Houston Police Department-HPD                                   3   \n",
       "Human Resources Dept.                                           0   \n",
       "Legal Department                                                0   \n",
       "Library                                                         1   \n",
       "Mayor's Office                                                  0   \n",
       "Municipal Courts Department                                     0   \n",
       "Parks & Recreation                                              0   \n",
       "Planning & Development                                          0   \n",
       "Public Works & Engineering-PWE                                  0   \n",
       "Solid Waste Management                                          0   \n",
       "\n",
       "RACE                            Asian/Pacific Islander  \\\n",
       "DEPARTMENT                                               \n",
       "Admn. & Regulatory Affairs                           3   \n",
       "City Controller's Office                             1   \n",
       "City Council                                         0   \n",
       "Convention and Entertainment                         0   \n",
       "Dept of Neighborhoods (DON)                          0   \n",
       "Finance                                              0   \n",
       "Fleet Management Department                          1   \n",
       "General Services Department                          0   \n",
       "Health & Human Services                             11   \n",
       "Housing and Community Devp.                          2   \n",
       "Houston Airport System (HAS)                         6   \n",
       "Houston Emergency Center (HEC)                       0   \n",
       "Houston Fire Department (HFD)                        1   \n",
       "Houston Information Tech Svcs                        2   \n",
       "Houston Police Department-HPD                       39   \n",
       "Human Resources Dept.                                1   \n",
       "Legal Department                                     2   \n",
       "Library                                              3   \n",
       "Mayor's Office                                       1   \n",
       "Municipal Courts Department                          1   \n",
       "Parks & Recreation                                   2   \n",
       "Planning & Development                               1   \n",
       "Public Works & Engineering-PWE                      29   \n",
       "Solid Waste Management                               1   \n",
       "\n",
       "RACE                            Black or African American  Hispanic/Latino  \\\n",
       "DEPARTMENT                                                                   \n",
       "Admn. & Regulatory Affairs                             15                6   \n",
       "City Controller's Office                                3                1   \n",
       "City Council                                            5                2   \n",
       "Convention and Entertainment                            0                1   \n",
       "Dept of Neighborhoods (DON)                            10                5   \n",
       "Finance                                                 6                4   \n",
       "Fleet Management Department                            16                9   \n",
       "General Services Department                             5               10   \n",
       "Health & Human Services                                55               27   \n",
       "Housing and Community Devp.                            12                3   \n",
       "Houston Airport System (HAS)                           43               30   \n",
       "Houston Emergency Center (HEC)                         14                6   \n",
       "Houston Fire Department (HFD)                          74               99   \n",
       "Houston Information Tech Svcs                           1                2   \n",
       "Houston Police Department-HPD                         176              151   \n",
       "Human Resources Dept.                                  16                3   \n",
       "Legal Department                                        4                3   \n",
       "Library                                                18                9   \n",
       "Mayor's Office                                          1                1   \n",
       "Municipal Courts Department                            15                7   \n",
       "Parks & Recreation                                     43               20   \n",
       "Planning & Development                                  1                3   \n",
       "Public Works & Engineering-PWE                        171               68   \n",
       "Solid Waste Management                                 31               10   \n",
       "\n",
       "RACE                            Others  White  \n",
       "DEPARTMENT                                     \n",
       "Admn. & Regulatory Affairs           0      5  \n",
       "City Controller's Office             0      0  \n",
       "City Council                         0      4  \n",
       "Convention and Entertainment         0      0  \n",
       "Dept of Neighborhoods (DON)          0      1  \n",
       "Finance                              0      0  \n",
       "Fleet Management Department          0     10  \n",
       "General Services Department          0      7  \n",
       "Health & Human Services              2     12  \n",
       "Housing and Community Devp.          0      4  \n",
       "Houston Airport System (HAS)         0     26  \n",
       "Houston Emergency Center (HEC)       0      3  \n",
       "Houston Fire Department (HFD)        0    209  \n",
       "Houston Information Tech Svcs        0      4  \n",
       "Houston Police Department-HPD        0    269  \n",
       "Human Resources Dept.                0      4  \n",
       "Legal Department                     0      8  \n",
       "Library                              0      5  \n",
       "Mayor's Office                       0      2  \n",
       "Municipal Courts Department          0      5  \n",
       "Parks & Recreation                   0      9  \n",
       "Planning & Development               0      2  \n",
       "Public Works & Engineering-PWE       0     75  \n",
       "Solid Waste Management               0      1  "
      ]
     },
     "execution_count": 22,
     "metadata": {},
     "output_type": "execute_result"
    }
   ],
   "source": [
    "# Are there any significant disparities in the representation of different racial/ethnic groups across departments or positions# \n",
    "df1.groupby(['DEPARTMENT', 'RACE']).size().unstack(fill_value=0)"
   ]
  },
  {
   "cell_type": "code",
   "execution_count": 23,
   "id": "3ee5d1bf",
   "metadata": {},
   "outputs": [],
   "source": [
    "dept_grp = df1.groupby(['DEPARTMENT', 'RACE']).size().unstack(fill_value=0)"
   ]
  },
  {
   "cell_type": "code",
   "execution_count": 24,
   "id": "73ec7f81",
   "metadata": {},
   "outputs": [
    {
     "name": "stdout",
     "output_type": "stream",
     "text": [
      "race_dept_distribution:\n",
      "RACE                            American Indian or Alaskan Native  \\\n",
      "DEPARTMENT                                                          \n",
      "Admn. & Regulatory Affairs                                   0.00   \n",
      "City Controller's Office                                     0.00   \n",
      "City Council                                                 0.00   \n",
      "Convention and Entertainment                                 0.00   \n",
      "Dept of Neighborhoods (DON)                                  5.88   \n",
      "Finance                                                      0.00   \n",
      "Fleet Management Department                                  0.00   \n",
      "General Services Department                                  0.00   \n",
      "Health & Human Services                                      2.73   \n",
      "Housing and Community Devp.                                  4.55   \n",
      "Houston Airport System (HAS)                                 0.94   \n",
      "Houston Emergency Center (HEC)                               0.00   \n",
      "Houston Fire Department (HFD)                                0.26   \n",
      "Houston Information Tech Svcs                                0.00   \n",
      "Houston Police Department-HPD                                0.47   \n",
      "Human Resources Dept.                                        0.00   \n",
      "Legal Department                                             0.00   \n",
      "Library                                                      2.78   \n",
      "Mayor's Office                                               0.00   \n",
      "Municipal Courts Department                                  0.00   \n",
      "Parks & Recreation                                           0.00   \n",
      "Planning & Development                                       0.00   \n",
      "Public Works & Engineering-PWE                               0.00   \n",
      "Solid Waste Management                                       0.00   \n",
      "\n",
      "RACE                            Asian/Pacific Islander  \\\n",
      "DEPARTMENT                                               \n",
      "Admn. & Regulatory Affairs                       10.34   \n",
      "City Controller's Office                         20.00   \n",
      "City Council                                      0.00   \n",
      "Convention and Entertainment                      0.00   \n",
      "Dept of Neighborhoods (DON)                       0.00   \n",
      "Finance                                           0.00   \n",
      "Fleet Management Department                       2.78   \n",
      "General Services Department                       0.00   \n",
      "Health & Human Services                          10.00   \n",
      "Housing and Community Devp.                       9.09   \n",
      "Houston Airport System (HAS)                      5.66   \n",
      "Houston Emergency Center (HEC)                    0.00   \n",
      "Houston Fire Department (HFD)                     0.26   \n",
      "Houston Information Tech Svcs                    22.22   \n",
      "Houston Police Department-HPD                     6.11   \n",
      "Human Resources Dept.                             4.17   \n",
      "Legal Department                                 11.76   \n",
      "Library                                           8.33   \n",
      "Mayor's Office                                   20.00   \n",
      "Municipal Courts Department                       3.57   \n",
      "Parks & Recreation                                2.70   \n",
      "Planning & Development                           14.29   \n",
      "Public Works & Engineering-PWE                    8.45   \n",
      "Solid Waste Management                            2.33   \n",
      "\n",
      "RACE                            Black or African American  Hispanic/Latino  \\\n",
      "DEPARTMENT                                                                   \n",
      "Admn. & Regulatory Affairs                          51.72            20.69   \n",
      "City Controller's Office                            60.00            20.00   \n",
      "City Council                                        45.45            18.18   \n",
      "Convention and Entertainment                         0.00           100.00   \n",
      "Dept of Neighborhoods (DON)                         58.82            29.41   \n",
      "Finance                                             60.00            40.00   \n",
      "Fleet Management Department                         44.44            25.00   \n",
      "General Services Department                         22.73            45.45   \n",
      "Health & Human Services                             50.00            24.55   \n",
      "Housing and Community Devp.                         54.55            13.64   \n",
      "Houston Airport System (HAS)                        40.57            28.30   \n",
      "Houston Emergency Center (HEC)                      60.87            26.09   \n",
      "Houston Fire Department (HFD)                       19.27            25.78   \n",
      "Houston Information Tech Svcs                       11.11            22.22   \n",
      "Houston Police Department-HPD                       27.59            23.67   \n",
      "Human Resources Dept.                               66.67            12.50   \n",
      "Legal Department                                    23.53            17.65   \n",
      "Library                                             50.00            25.00   \n",
      "Mayor's Office                                      20.00            20.00   \n",
      "Municipal Courts Department                         53.57            25.00   \n",
      "Parks & Recreation                                  58.11            27.03   \n",
      "Planning & Development                              14.29            42.86   \n",
      "Public Works & Engineering-PWE                      49.85            19.83   \n",
      "Solid Waste Management                              72.09            23.26   \n",
      "\n",
      "RACE                            Others  White  \n",
      "DEPARTMENT                                     \n",
      "Admn. & Regulatory Affairs        0.00  17.24  \n",
      "City Controller's Office          0.00   0.00  \n",
      "City Council                      0.00  36.36  \n",
      "Convention and Entertainment      0.00   0.00  \n",
      "Dept of Neighborhoods (DON)       0.00   5.88  \n",
      "Finance                           0.00   0.00  \n",
      "Fleet Management Department       0.00  27.78  \n",
      "General Services Department       0.00  31.82  \n",
      "Health & Human Services           1.82  10.91  \n",
      "Housing and Community Devp.       0.00  18.18  \n",
      "Houston Airport System (HAS)      0.00  24.53  \n",
      "Houston Emergency Center (HEC)    0.00  13.04  \n",
      "Houston Fire Department (HFD)     0.00  54.43  \n",
      "Houston Information Tech Svcs     0.00  44.44  \n",
      "Houston Police Department-HPD     0.00  42.16  \n",
      "Human Resources Dept.             0.00  16.67  \n",
      "Legal Department                  0.00  47.06  \n",
      "Library                           0.00  13.89  \n",
      "Mayor's Office                    0.00  40.00  \n",
      "Municipal Courts Department       0.00  17.86  \n",
      "Parks & Recreation                0.00  12.16  \n",
      "Planning & Development            0.00  28.57  \n",
      "Public Works & Engineering-PWE    0.00  21.87  \n",
      "Solid Waste Management            0.00   2.33  \n"
     ]
    }
   ],
   "source": [
    "#to calculate the percentage 0f each race in each department\n",
    "race_dept_distribution= round(dept_grp.div(dept_grp.sum(axis=1),axis=0)*100,2)\n",
    "#display the result\n",
    "print(\"race_dept_distribution:\")\n",
    "print(race_dept_distribution)"
   ]
  },
  {
   "cell_type": "markdown",
   "id": "b63eb057",
   "metadata": {},
   "source": [
    "#  Gender Representation"
   ]
  },
  {
   "cell_type": "code",
   "execution_count": 25,
   "id": "44b4a453",
   "metadata": {},
   "outputs": [
    {
     "data": {
      "text/plain": [
       "Male      1397\n",
       "Female     603\n",
       "Name: GENDER, dtype: int64"
      ]
     },
     "execution_count": 25,
     "metadata": {},
     "output_type": "execute_result"
    }
   ],
   "source": [
    "#  What is the gender distribution within the organization?\n",
    "df1['GENDER'].value_counts()"
   ]
  },
  {
   "cell_type": "code",
   "execution_count": 26,
   "id": "4af17a85",
   "metadata": {},
   "outputs": [],
   "source": [
    "gender_distribution= df1['GENDER'].value_counts()"
   ]
  },
  {
   "cell_type": "code",
   "execution_count": 27,
   "id": "a2beed53",
   "metadata": {},
   "outputs": [
    {
     "data": {
      "text/plain": [
       "Male      69.85\n",
       "Female    30.15\n",
       "Name: GENDER, dtype: float64"
      ]
     },
     "execution_count": 27,
     "metadata": {},
     "output_type": "execute_result"
    }
   ],
   "source": [
    "#gender by percentage\n",
    "df1['GENDER'].value_counts(normalize =True)*100"
   ]
  },
  {
   "cell_type": "code",
   "execution_count": 28,
   "id": "af9ba3c2",
   "metadata": {},
   "outputs": [
    {
     "data": {
      "text/html": [
       "<div>\n",
       "<style scoped>\n",
       "    .dataframe tbody tr th:only-of-type {\n",
       "        vertical-align: middle;\n",
       "    }\n",
       "\n",
       "    .dataframe tbody tr th {\n",
       "        vertical-align: top;\n",
       "    }\n",
       "\n",
       "    .dataframe thead th {\n",
       "        text-align: right;\n",
       "    }\n",
       "</style>\n",
       "<table border=\"1\" class=\"dataframe\">\n",
       "  <thead>\n",
       "    <tr style=\"text-align: right;\">\n",
       "      <th>GENDER</th>\n",
       "      <th>Female</th>\n",
       "      <th>Male</th>\n",
       "    </tr>\n",
       "    <tr>\n",
       "      <th>DEPARTMENT</th>\n",
       "      <th></th>\n",
       "      <th></th>\n",
       "    </tr>\n",
       "  </thead>\n",
       "  <tbody>\n",
       "    <tr>\n",
       "      <th>Admn. &amp; Regulatory Affairs</th>\n",
       "      <td>22</td>\n",
       "      <td>7</td>\n",
       "    </tr>\n",
       "    <tr>\n",
       "      <th>City Controller's Office</th>\n",
       "      <td>4</td>\n",
       "      <td>1</td>\n",
       "    </tr>\n",
       "    <tr>\n",
       "      <th>City Council</th>\n",
       "      <td>7</td>\n",
       "      <td>4</td>\n",
       "    </tr>\n",
       "    <tr>\n",
       "      <th>Convention and Entertainment</th>\n",
       "      <td>1</td>\n",
       "      <td>0</td>\n",
       "    </tr>\n",
       "    <tr>\n",
       "      <th>Dept of Neighborhoods (DON)</th>\n",
       "      <td>8</td>\n",
       "      <td>9</td>\n",
       "    </tr>\n",
       "    <tr>\n",
       "      <th>Finance</th>\n",
       "      <td>4</td>\n",
       "      <td>6</td>\n",
       "    </tr>\n",
       "    <tr>\n",
       "      <th>Fleet Management Department</th>\n",
       "      <td>3</td>\n",
       "      <td>33</td>\n",
       "    </tr>\n",
       "    <tr>\n",
       "      <th>General Services Department</th>\n",
       "      <td>2</td>\n",
       "      <td>20</td>\n",
       "    </tr>\n",
       "    <tr>\n",
       "      <th>Health &amp; Human Services</th>\n",
       "      <td>83</td>\n",
       "      <td>27</td>\n",
       "    </tr>\n",
       "    <tr>\n",
       "      <th>Housing and Community Devp.</th>\n",
       "      <td>16</td>\n",
       "      <td>6</td>\n",
       "    </tr>\n",
       "    <tr>\n",
       "      <th>Houston Airport System (HAS)</th>\n",
       "      <td>36</td>\n",
       "      <td>70</td>\n",
       "    </tr>\n",
       "    <tr>\n",
       "      <th>Houston Emergency Center (HEC)</th>\n",
       "      <td>17</td>\n",
       "      <td>6</td>\n",
       "    </tr>\n",
       "    <tr>\n",
       "      <th>Houston Fire Department (HFD)</th>\n",
       "      <td>21</td>\n",
       "      <td>363</td>\n",
       "    </tr>\n",
       "    <tr>\n",
       "      <th>Houston Information Tech Svcs</th>\n",
       "      <td>1</td>\n",
       "      <td>8</td>\n",
       "    </tr>\n",
       "    <tr>\n",
       "      <th>Houston Police Department-HPD</th>\n",
       "      <td>155</td>\n",
       "      <td>483</td>\n",
       "    </tr>\n",
       "    <tr>\n",
       "      <th>Human Resources Dept.</th>\n",
       "      <td>19</td>\n",
       "      <td>5</td>\n",
       "    </tr>\n",
       "    <tr>\n",
       "      <th>Legal Department</th>\n",
       "      <td>9</td>\n",
       "      <td>8</td>\n",
       "    </tr>\n",
       "    <tr>\n",
       "      <th>Library</th>\n",
       "      <td>28</td>\n",
       "      <td>8</td>\n",
       "    </tr>\n",
       "    <tr>\n",
       "      <th>Mayor's Office</th>\n",
       "      <td>3</td>\n",
       "      <td>2</td>\n",
       "    </tr>\n",
       "    <tr>\n",
       "      <th>Municipal Courts Department</th>\n",
       "      <td>21</td>\n",
       "      <td>7</td>\n",
       "    </tr>\n",
       "    <tr>\n",
       "      <th>Parks &amp; Recreation</th>\n",
       "      <td>23</td>\n",
       "      <td>51</td>\n",
       "    </tr>\n",
       "    <tr>\n",
       "      <th>Planning &amp; Development</th>\n",
       "      <td>3</td>\n",
       "      <td>4</td>\n",
       "    </tr>\n",
       "    <tr>\n",
       "      <th>Public Works &amp; Engineering-PWE</th>\n",
       "      <td>108</td>\n",
       "      <td>235</td>\n",
       "    </tr>\n",
       "    <tr>\n",
       "      <th>Solid Waste Management</th>\n",
       "      <td>9</td>\n",
       "      <td>34</td>\n",
       "    </tr>\n",
       "  </tbody>\n",
       "</table>\n",
       "</div>"
      ],
      "text/plain": [
       "GENDER                          Female  Male\n",
       "DEPARTMENT                                  \n",
       "Admn. & Regulatory Affairs          22     7\n",
       "City Controller's Office             4     1\n",
       "City Council                         7     4\n",
       "Convention and Entertainment         1     0\n",
       "Dept of Neighborhoods (DON)          8     9\n",
       "Finance                              4     6\n",
       "Fleet Management Department          3    33\n",
       "General Services Department          2    20\n",
       "Health & Human Services             83    27\n",
       "Housing and Community Devp.         16     6\n",
       "Houston Airport System (HAS)        36    70\n",
       "Houston Emergency Center (HEC)      17     6\n",
       "Houston Fire Department (HFD)       21   363\n",
       "Houston Information Tech Svcs        1     8\n",
       "Houston Police Department-HPD      155   483\n",
       "Human Resources Dept.               19     5\n",
       "Legal Department                     9     8\n",
       "Library                             28     8\n",
       "Mayor's Office                       3     2\n",
       "Municipal Courts Department         21     7\n",
       "Parks & Recreation                  23    51\n",
       "Planning & Development               3     4\n",
       "Public Works & Engineering-PWE     108   235\n",
       "Solid Waste Management               9    34"
      ]
     },
     "execution_count": 28,
     "metadata": {},
     "output_type": "execute_result"
    }
   ],
   "source": [
    "#  Are there any gender imbalances in certain departments or roles?\n",
    "df1.groupby(['DEPARTMENT', 'GENDER']).size().unstack(fill_value=0)"
   ]
  },
  {
   "cell_type": "code",
   "execution_count": 29,
   "id": "e4dfd959",
   "metadata": {},
   "outputs": [],
   "source": [
    "dept_gender = df1.groupby(['DEPARTMENT', 'GENDER']).size().unstack(fill_value=0)"
   ]
  },
  {
   "cell_type": "code",
   "execution_count": 30,
   "id": "71d3a752",
   "metadata": {},
   "outputs": [
    {
     "name": "stdout",
     "output_type": "stream",
     "text": [
      "gender_dept_distribution:\n",
      "GENDER                          Female   Male\n",
      "DEPARTMENT                                   \n",
      "Admn. & Regulatory Affairs       75.86  24.14\n",
      "City Controller's Office         80.00  20.00\n",
      "City Council                     63.64  36.36\n",
      "Convention and Entertainment    100.00   0.00\n",
      "Dept of Neighborhoods (DON)      47.06  52.94\n",
      "Finance                          40.00  60.00\n",
      "Fleet Management Department       8.33  91.67\n",
      "General Services Department       9.09  90.91\n",
      "Health & Human Services          75.45  24.55\n",
      "Housing and Community Devp.      72.73  27.27\n",
      "Houston Airport System (HAS)     33.96  66.04\n",
      "Houston Emergency Center (HEC)   73.91  26.09\n",
      "Houston Fire Department (HFD)     5.47  94.53\n",
      "Houston Information Tech Svcs    11.11  88.89\n",
      "Houston Police Department-HPD    24.29  75.71\n",
      "Human Resources Dept.            79.17  20.83\n",
      "Legal Department                 52.94  47.06\n",
      "Library                          77.78  22.22\n",
      "Mayor's Office                   60.00  40.00\n",
      "Municipal Courts Department      75.00  25.00\n",
      "Parks & Recreation               31.08  68.92\n",
      "Planning & Development           42.86  57.14\n",
      "Public Works & Engineering-PWE   31.49  68.51\n",
      "Solid Waste Management           20.93  79.07\n"
     ]
    }
   ],
   "source": [
    "#to calculate the percentage 0f each race in each department\n",
    "gender_dept_distribution= round(dept_gender.div(dept_gender.sum(axis=1),axis=0)*100,2)\n",
    "#display the result\n",
    "print(\"gender_dept_distribution:\")\n",
    "print(gender_dept_distribution)"
   ]
  },
  {
   "cell_type": "markdown",
   "id": "3dda4eac",
   "metadata": {},
   "source": [
    "\n",
    "\n",
    "#  Employment Type Distribution"
   ]
  },
  {
   "cell_type": "code",
   "execution_count": 31,
   "id": "3c53f734",
   "metadata": {},
   "outputs": [
    {
     "name": "stdout",
     "output_type": "stream",
     "text": [
      "employment_count:\n",
      "Full Time            1954\n",
      "Part Time              20\n",
      "Temporary               9\n",
      "HFD Deferred Term       9\n",
      "Part Time 30            8\n",
      "Name: EMPLOYMENT_TYPE, dtype: int64\n"
     ]
    }
   ],
   "source": [
    "# What proportion of employees are full-time, part-time, or contract workers?\n",
    "employment_count=df1['EMPLOYMENT_TYPE'].value_counts()  # to count the number of employees in each employment status category\n",
    "print('employment_count:')\n",
    "print(employment_count)\n"
   ]
  },
  {
   "cell_type": "code",
   "execution_count": 32,
   "id": "874ea9d7",
   "metadata": {},
   "outputs": [
    {
     "name": "stdout",
     "output_type": "stream",
     "text": [
      "employment_proportions:\n",
      "Full Time            0.98\n",
      "Part Time            0.01\n",
      "Temporary            0.00\n",
      "HFD Deferred Term    0.00\n",
      "Part Time 30         0.00\n",
      "Name: EMPLOYMENT_TYPE, dtype: float64\n"
     ]
    }
   ],
   "source": [
    "# to calculate the proportion of employees in each category\n",
    "employment_proportions = round(employment_count / employment_count.sum(), 2)\n",
    "print('employment_proportions:')\n",
    "print(employment_proportions)"
   ]
  },
  {
   "cell_type": "code",
   "execution_count": 33,
   "id": "a83e674d",
   "metadata": {},
   "outputs": [
    {
     "data": {
      "text/html": [
       "<div>\n",
       "<style scoped>\n",
       "    .dataframe tbody tr th:only-of-type {\n",
       "        vertical-align: middle;\n",
       "    }\n",
       "\n",
       "    .dataframe tbody tr th {\n",
       "        vertical-align: top;\n",
       "    }\n",
       "\n",
       "    .dataframe thead th {\n",
       "        text-align: right;\n",
       "    }\n",
       "</style>\n",
       "<table border=\"1\" class=\"dataframe\">\n",
       "  <thead>\n",
       "    <tr style=\"text-align: right;\">\n",
       "      <th>EMPLOYMENT_TYPE</th>\n",
       "      <th>Full Time</th>\n",
       "      <th>HFD Deferred Term</th>\n",
       "      <th>Part Time</th>\n",
       "      <th>Part Time 30</th>\n",
       "      <th>Temporary</th>\n",
       "    </tr>\n",
       "    <tr>\n",
       "      <th>DEPARTMENT</th>\n",
       "      <th></th>\n",
       "      <th></th>\n",
       "      <th></th>\n",
       "      <th></th>\n",
       "      <th></th>\n",
       "    </tr>\n",
       "  </thead>\n",
       "  <tbody>\n",
       "    <tr>\n",
       "      <th>Admn. &amp; Regulatory Affairs</th>\n",
       "      <td>29</td>\n",
       "      <td>0</td>\n",
       "      <td>0</td>\n",
       "      <td>0</td>\n",
       "      <td>0</td>\n",
       "    </tr>\n",
       "    <tr>\n",
       "      <th>City Controller's Office</th>\n",
       "      <td>5</td>\n",
       "      <td>0</td>\n",
       "      <td>0</td>\n",
       "      <td>0</td>\n",
       "      <td>0</td>\n",
       "    </tr>\n",
       "    <tr>\n",
       "      <th>City Council</th>\n",
       "      <td>9</td>\n",
       "      <td>0</td>\n",
       "      <td>0</td>\n",
       "      <td>2</td>\n",
       "      <td>0</td>\n",
       "    </tr>\n",
       "    <tr>\n",
       "      <th>Convention and Entertainment</th>\n",
       "      <td>1</td>\n",
       "      <td>0</td>\n",
       "      <td>0</td>\n",
       "      <td>0</td>\n",
       "      <td>0</td>\n",
       "    </tr>\n",
       "    <tr>\n",
       "      <th>Dept of Neighborhoods (DON)</th>\n",
       "      <td>17</td>\n",
       "      <td>0</td>\n",
       "      <td>0</td>\n",
       "      <td>0</td>\n",
       "      <td>0</td>\n",
       "    </tr>\n",
       "    <tr>\n",
       "      <th>Finance</th>\n",
       "      <td>10</td>\n",
       "      <td>0</td>\n",
       "      <td>0</td>\n",
       "      <td>0</td>\n",
       "      <td>0</td>\n",
       "    </tr>\n",
       "    <tr>\n",
       "      <th>Fleet Management Department</th>\n",
       "      <td>36</td>\n",
       "      <td>0</td>\n",
       "      <td>0</td>\n",
       "      <td>0</td>\n",
       "      <td>0</td>\n",
       "    </tr>\n",
       "    <tr>\n",
       "      <th>General Services Department</th>\n",
       "      <td>22</td>\n",
       "      <td>0</td>\n",
       "      <td>0</td>\n",
       "      <td>0</td>\n",
       "      <td>0</td>\n",
       "    </tr>\n",
       "    <tr>\n",
       "      <th>Health &amp; Human Services</th>\n",
       "      <td>106</td>\n",
       "      <td>0</td>\n",
       "      <td>2</td>\n",
       "      <td>2</td>\n",
       "      <td>0</td>\n",
       "    </tr>\n",
       "    <tr>\n",
       "      <th>Housing and Community Devp.</th>\n",
       "      <td>20</td>\n",
       "      <td>0</td>\n",
       "      <td>0</td>\n",
       "      <td>2</td>\n",
       "      <td>0</td>\n",
       "    </tr>\n",
       "    <tr>\n",
       "      <th>Houston Airport System (HAS)</th>\n",
       "      <td>106</td>\n",
       "      <td>0</td>\n",
       "      <td>0</td>\n",
       "      <td>0</td>\n",
       "      <td>0</td>\n",
       "    </tr>\n",
       "    <tr>\n",
       "      <th>Houston Emergency Center (HEC)</th>\n",
       "      <td>23</td>\n",
       "      <td>0</td>\n",
       "      <td>0</td>\n",
       "      <td>0</td>\n",
       "      <td>0</td>\n",
       "    </tr>\n",
       "    <tr>\n",
       "      <th>Houston Fire Department (HFD)</th>\n",
       "      <td>375</td>\n",
       "      <td>9</td>\n",
       "      <td>0</td>\n",
       "      <td>0</td>\n",
       "      <td>0</td>\n",
       "    </tr>\n",
       "    <tr>\n",
       "      <th>Houston Information Tech Svcs</th>\n",
       "      <td>9</td>\n",
       "      <td>0</td>\n",
       "      <td>0</td>\n",
       "      <td>0</td>\n",
       "      <td>0</td>\n",
       "    </tr>\n",
       "    <tr>\n",
       "      <th>Houston Police Department-HPD</th>\n",
       "      <td>638</td>\n",
       "      <td>0</td>\n",
       "      <td>0</td>\n",
       "      <td>0</td>\n",
       "      <td>0</td>\n",
       "    </tr>\n",
       "    <tr>\n",
       "      <th>Human Resources Dept.</th>\n",
       "      <td>24</td>\n",
       "      <td>0</td>\n",
       "      <td>0</td>\n",
       "      <td>0</td>\n",
       "      <td>0</td>\n",
       "    </tr>\n",
       "    <tr>\n",
       "      <th>Legal Department</th>\n",
       "      <td>17</td>\n",
       "      <td>0</td>\n",
       "      <td>0</td>\n",
       "      <td>0</td>\n",
       "      <td>0</td>\n",
       "    </tr>\n",
       "    <tr>\n",
       "      <th>Library</th>\n",
       "      <td>30</td>\n",
       "      <td>0</td>\n",
       "      <td>6</td>\n",
       "      <td>0</td>\n",
       "      <td>0</td>\n",
       "    </tr>\n",
       "    <tr>\n",
       "      <th>Mayor's Office</th>\n",
       "      <td>5</td>\n",
       "      <td>0</td>\n",
       "      <td>0</td>\n",
       "      <td>0</td>\n",
       "      <td>0</td>\n",
       "    </tr>\n",
       "    <tr>\n",
       "      <th>Municipal Courts Department</th>\n",
       "      <td>26</td>\n",
       "      <td>0</td>\n",
       "      <td>1</td>\n",
       "      <td>1</td>\n",
       "      <td>0</td>\n",
       "    </tr>\n",
       "    <tr>\n",
       "      <th>Parks &amp; Recreation</th>\n",
       "      <td>55</td>\n",
       "      <td>0</td>\n",
       "      <td>10</td>\n",
       "      <td>0</td>\n",
       "      <td>9</td>\n",
       "    </tr>\n",
       "    <tr>\n",
       "      <th>Planning &amp; Development</th>\n",
       "      <td>7</td>\n",
       "      <td>0</td>\n",
       "      <td>0</td>\n",
       "      <td>0</td>\n",
       "      <td>0</td>\n",
       "    </tr>\n",
       "    <tr>\n",
       "      <th>Public Works &amp; Engineering-PWE</th>\n",
       "      <td>341</td>\n",
       "      <td>0</td>\n",
       "      <td>1</td>\n",
       "      <td>1</td>\n",
       "      <td>0</td>\n",
       "    </tr>\n",
       "    <tr>\n",
       "      <th>Solid Waste Management</th>\n",
       "      <td>43</td>\n",
       "      <td>0</td>\n",
       "      <td>0</td>\n",
       "      <td>0</td>\n",
       "      <td>0</td>\n",
       "    </tr>\n",
       "  </tbody>\n",
       "</table>\n",
       "</div>"
      ],
      "text/plain": [
       "EMPLOYMENT_TYPE                 Full Time  HFD Deferred Term  Part Time  \\\n",
       "DEPARTMENT                                                                \n",
       "Admn. & Regulatory Affairs             29                  0          0   \n",
       "City Controller's Office                5                  0          0   \n",
       "City Council                            9                  0          0   \n",
       "Convention and Entertainment            1                  0          0   \n",
       "Dept of Neighborhoods (DON)            17                  0          0   \n",
       "Finance                                10                  0          0   \n",
       "Fleet Management Department            36                  0          0   \n",
       "General Services Department            22                  0          0   \n",
       "Health & Human Services               106                  0          2   \n",
       "Housing and Community Devp.            20                  0          0   \n",
       "Houston Airport System (HAS)          106                  0          0   \n",
       "Houston Emergency Center (HEC)         23                  0          0   \n",
       "Houston Fire Department (HFD)         375                  9          0   \n",
       "Houston Information Tech Svcs           9                  0          0   \n",
       "Houston Police Department-HPD         638                  0          0   \n",
       "Human Resources Dept.                  24                  0          0   \n",
       "Legal Department                       17                  0          0   \n",
       "Library                                30                  0          6   \n",
       "Mayor's Office                          5                  0          0   \n",
       "Municipal Courts Department            26                  0          1   \n",
       "Parks & Recreation                     55                  0         10   \n",
       "Planning & Development                  7                  0          0   \n",
       "Public Works & Engineering-PWE        341                  0          1   \n",
       "Solid Waste Management                 43                  0          0   \n",
       "\n",
       "EMPLOYMENT_TYPE                 Part Time 30  Temporary  \n",
       "DEPARTMENT                                               \n",
       "Admn. & Regulatory Affairs                 0          0  \n",
       "City Controller's Office                   0          0  \n",
       "City Council                               2          0  \n",
       "Convention and Entertainment               0          0  \n",
       "Dept of Neighborhoods (DON)                0          0  \n",
       "Finance                                    0          0  \n",
       "Fleet Management Department                0          0  \n",
       "General Services Department                0          0  \n",
       "Health & Human Services                    2          0  \n",
       "Housing and Community Devp.                2          0  \n",
       "Houston Airport System (HAS)               0          0  \n",
       "Houston Emergency Center (HEC)             0          0  \n",
       "Houston Fire Department (HFD)              0          0  \n",
       "Houston Information Tech Svcs              0          0  \n",
       "Houston Police Department-HPD              0          0  \n",
       "Human Resources Dept.                      0          0  \n",
       "Legal Department                           0          0  \n",
       "Library                                    0          0  \n",
       "Mayor's Office                             0          0  \n",
       "Municipal Courts Department                1          0  \n",
       "Parks & Recreation                         0          9  \n",
       "Planning & Development                     0          0  \n",
       "Public Works & Engineering-PWE             1          0  \n",
       "Solid Waste Management                     0          0  "
      ]
     },
     "execution_count": 33,
     "metadata": {},
     "output_type": "execute_result"
    }
   ],
   "source": [
    "#  Are there differences in employment types across departments orpositions?\n",
    "df1.groupby(['DEPARTMENT', 'EMPLOYMENT_TYPE']).size().unstack(fill_value=0)\n"
   ]
  },
  {
   "cell_type": "code",
   "execution_count": 34,
   "id": "b387263b",
   "metadata": {},
   "outputs": [],
   "source": [
    "dept_employmentType= df1.groupby(['DEPARTMENT', 'EMPLOYMENT_TYPE']).size().unstack(fill_value=0)"
   ]
  },
  {
   "cell_type": "code",
   "execution_count": 35,
   "id": "d5a17b7e",
   "metadata": {},
   "outputs": [
    {
     "name": "stdout",
     "output_type": "stream",
     "text": [
      "dept_employment_distribution:\n",
      "EMPLOYMENT_TYPE                 Full Time  HFD Deferred Term  Part Time  \\\n",
      "DEPARTMENT                                                                \n",
      "Admn. & Regulatory Affairs         100.00               0.00       0.00   \n",
      "City Controller's Office           100.00               0.00       0.00   \n",
      "City Council                        81.82               0.00       0.00   \n",
      "Convention and Entertainment       100.00               0.00       0.00   \n",
      "Dept of Neighborhoods (DON)        100.00               0.00       0.00   \n",
      "Finance                            100.00               0.00       0.00   \n",
      "Fleet Management Department        100.00               0.00       0.00   \n",
      "General Services Department        100.00               0.00       0.00   \n",
      "Health & Human Services             96.36               0.00       1.82   \n",
      "Housing and Community Devp.         90.91               0.00       0.00   \n",
      "Houston Airport System (HAS)       100.00               0.00       0.00   \n",
      "Houston Emergency Center (HEC)     100.00               0.00       0.00   \n",
      "Houston Fire Department (HFD)       97.66               2.34       0.00   \n",
      "Houston Information Tech Svcs      100.00               0.00       0.00   \n",
      "Houston Police Department-HPD      100.00               0.00       0.00   \n",
      "Human Resources Dept.              100.00               0.00       0.00   \n",
      "Legal Department                   100.00               0.00       0.00   \n",
      "Library                             83.33               0.00      16.67   \n",
      "Mayor's Office                     100.00               0.00       0.00   \n",
      "Municipal Courts Department         92.86               0.00       3.57   \n",
      "Parks & Recreation                  74.32               0.00      13.51   \n",
      "Planning & Development             100.00               0.00       0.00   \n",
      "Public Works & Engineering-PWE      99.42               0.00       0.29   \n",
      "Solid Waste Management             100.00               0.00       0.00   \n",
      "\n",
      "EMPLOYMENT_TYPE                 Part Time 30  Temporary  \n",
      "DEPARTMENT                                               \n",
      "Admn. & Regulatory Affairs              0.00       0.00  \n",
      "City Controller's Office                0.00       0.00  \n",
      "City Council                           18.18       0.00  \n",
      "Convention and Entertainment            0.00       0.00  \n",
      "Dept of Neighborhoods (DON)             0.00       0.00  \n",
      "Finance                                 0.00       0.00  \n",
      "Fleet Management Department             0.00       0.00  \n",
      "General Services Department             0.00       0.00  \n",
      "Health & Human Services                 1.82       0.00  \n",
      "Housing and Community Devp.             9.09       0.00  \n",
      "Houston Airport System (HAS)            0.00       0.00  \n",
      "Houston Emergency Center (HEC)          0.00       0.00  \n",
      "Houston Fire Department (HFD)           0.00       0.00  \n",
      "Houston Information Tech Svcs           0.00       0.00  \n",
      "Houston Police Department-HPD           0.00       0.00  \n",
      "Human Resources Dept.                   0.00       0.00  \n",
      "Legal Department                        0.00       0.00  \n",
      "Library                                 0.00       0.00  \n",
      "Mayor's Office                          0.00       0.00  \n",
      "Municipal Courts Department             3.57       0.00  \n",
      "Parks & Recreation                      0.00      12.16  \n",
      "Planning & Development                  0.00       0.00  \n",
      "Public Works & Engineering-PWE          0.29       0.00  \n",
      "Solid Waste Management                  0.00       0.00  \n"
     ]
    }
   ],
   "source": [
    "#to calculate the percentage 0f employment type in each department\n",
    "dept_employment_distribution= round(dept_employmentType.div(dept_employmentType.sum(axis=1),axis=0)*100,2)\n",
    "#to display result\n",
    "print('dept_employment_distribution:')\n",
    "print(dept_employment_distribution)"
   ]
  },
  {
   "cell_type": "markdown",
   "id": "75c20b17",
   "metadata": {},
   "source": [
    "#  Salary Distribution"
   ]
  },
  {
   "cell_type": "code",
   "execution_count": 36,
   "id": "c185eb03",
   "metadata": {},
   "outputs": [
    {
     "name": "stdout",
     "output_type": "stream",
     "text": [
      "Mean_Base_salary:\n",
      "55767.93160127254\n"
     ]
    }
   ],
   "source": [
    "#  What is the distribution of base salaries across the organization?(mean, mode, median)\n",
    "mean_base_salary= df1['BASE_SALARY'].mean() #to calculate the mean of base salary\n",
    "#display result\n",
    "print('Mean_Base_salary:')\n",
    "print(mean_base_salary)"
   ]
  },
  {
   "cell_type": "code",
   "execution_count": 37,
   "id": "1c57817e",
   "metadata": {},
   "outputs": [
    {
     "name": "stdout",
     "output_type": "stream",
     "text": [
      "Mode_ Base_salary:\n",
      "66614.0\n"
     ]
    }
   ],
   "source": [
    "#to calculate the mode of base salary\n",
    "mode_base_salary= df1['BASE_SALARY'].mode()[0]\n",
    "#display the result\n",
    "print('Mode_ Base_salary:')\n",
    "print(mode_base_salary)"
   ]
  },
  {
   "cell_type": "code",
   "execution_count": 38,
   "id": "543a60bb",
   "metadata": {},
   "outputs": [
    {
     "name": "stdout",
     "output_type": "stream",
     "text": [
      "Median_Base_salary:\n",
      "55461.0\n"
     ]
    }
   ],
   "source": [
    "#to calculate the median of base salary\n",
    "median_base_salary= df1['BASE_SALARY'].median()\n",
    "#display result\n",
    "print('Median_Base_salary:')\n",
    "print(median_base_salary)"
   ]
  },
  {
   "cell_type": "markdown",
   "id": "2d91e73e",
   "metadata": {},
   "source": [
    "# Salary Disparities"
   ]
  },
  {
   "cell_type": "code",
   "execution_count": 39,
   "id": "5ddcfcee",
   "metadata": {},
   "outputs": [],
   "source": [
    "import scipy.stats as stats"
   ]
  },
  {
   "cell_type": "code",
   "execution_count": 40,
   "id": "28b6db24",
   "metadata": {},
   "outputs": [],
   "source": [
    "#Are there significant differences in salaries between different demographic groups (e.g., race, gender)?\n",
    "#grouping data by race\n",
    "race_groups = df1.groupby('RACE')"
   ]
  },
  {
   "cell_type": "code",
   "execution_count": 41,
   "id": "f8f53500",
   "metadata": {},
   "outputs": [],
   "source": [
    "#performing ANOVA test (Analysis of Variance)\n",
    "anova_result = stats.f_oneway(*[group['BASE_SALARY'] for name, group in race_groups])"
   ]
  },
  {
   "cell_type": "code",
   "execution_count": 42,
   "id": "9af62bc2",
   "metadata": {},
   "outputs": [
    {
     "name": "stdout",
     "output_type": "stream",
     "text": [
      "ANOVA p-value: 1.07925114634825e-36\n",
      "There are significant differences between base salary and race.\n"
     ]
    }
   ],
   "source": [
    "# Print ANOVA result\n",
    "print(\"ANOVA p-value:\", anova_result.pvalue)\n",
    "if anova_result.pvalue < 0.05:\n",
    "    print(\"There are significant differences between base salary and race.\")\n",
    "else:\n",
    "    print(\"There are no significant differences between base salary and race.\")"
   ]
  },
  {
   "cell_type": "code",
   "execution_count": 43,
   "id": "e7a5c788",
   "metadata": {},
   "outputs": [],
   "source": [
    "#grouping data by gender\n",
    "gender_groups=df1.groupby('GENDER')"
   ]
  },
  {
   "cell_type": "code",
   "execution_count": 44,
   "id": "a1a43150",
   "metadata": {},
   "outputs": [],
   "source": [
    "#performing ANOVA test\n",
    "ANOVA_result= stats.f_oneway(*[group['BASE_SALARY'] for name, group in gender_groups])"
   ]
  },
  {
   "cell_type": "code",
   "execution_count": 45,
   "id": "f60b26fa",
   "metadata": {},
   "outputs": [
    {
     "name": "stdout",
     "output_type": "stream",
     "text": [
      "ANOVA p-value: 1.07925114634825e-36\n",
      "There are significant differences between base salary and gender.\n"
     ]
    }
   ],
   "source": [
    "# Print ANOVA result\n",
    "print(\"ANOVA p-value:\", anova_result.pvalue)\n",
    "if ANOVA_result.pvalue < 0.05:\n",
    "    print(\"There are significant differences between base salary and gender.\")\n",
    "else:\n",
    "    print(\"There are no significant differences between base salary and gender.\")"
   ]
  },
  {
   "cell_type": "code",
   "execution_count": 46,
   "id": "e07802c9",
   "metadata": {},
   "outputs": [
    {
     "name": "stdout",
     "output_type": "stream",
     "text": [
      "MEAN_salary_by_gender:\n",
      "GENDER\n",
      "Female    52323.545973\n",
      "Male      57254.663551\n",
      "Name: BASE_SALARY, dtype: float64\n"
     ]
    }
   ],
   "source": [
    "# Is there evidence of gender or racial pay gaps within the organization?\n",
    "# Mean base salary by gender\n",
    "mean_salary_by_gender = gender_groups['BASE_SALARY'].mean()\n",
    "print('MEAN_salary_by_gender:')\n",
    "print(mean_salary_by_gender)"
   ]
  },
  {
   "cell_type": "code",
   "execution_count": 47,
   "id": "5bd91c4c",
   "metadata": {},
   "outputs": [
    {
     "name": "stdout",
     "output_type": "stream",
     "text": [
      "MEDIAN_salary_by_gender:\n",
      "GENDER\n",
      "Female    47650.000000\n",
      "Male      55767.931601\n",
      "Name: BASE_SALARY, dtype: float64\n"
     ]
    }
   ],
   "source": [
    "# Median base salary by gender\n",
    "median_salary_by_gender = gender_groups['BASE_SALARY'].median()\n",
    "print('MEDIAN_salary_by_gender:')\n",
    "print(median_salary_by_gender)"
   ]
  },
  {
   "cell_type": "code",
   "execution_count": 48,
   "id": "3cbf253a",
   "metadata": {},
   "outputs": [
    {
     "name": "stdout",
     "output_type": "stream",
     "text": [
      "STD_salary_by_gender:\n",
      "GENDER\n",
      "Female    21836.514259\n",
      "Male      20554.934404\n",
      "Name: BASE_SALARY, dtype: float64\n"
     ]
    }
   ],
   "source": [
    "# Standard deviation of base salary by gender\n",
    "std_salary_by_gender = gender_groups['BASE_SALARY'].std()\n",
    "print('STD_salary_by_gender:')\n",
    "print(std_salary_by_gender)"
   ]
  },
  {
   "cell_type": "code",
   "execution_count": 49,
   "id": "ee2c3203",
   "metadata": {},
   "outputs": [
    {
     "name": "stdout",
     "output_type": "stream",
     "text": [
      "COUNT_BY_gender:\n",
      "GENDER\n",
      "Female     603\n",
      "Male      1397\n",
      "dtype: int64\n"
     ]
    }
   ],
   "source": [
    "# Number of employees by gender\n",
    "count_by_gender = gender_groups.size()\n",
    "print('COUNT_BY_gender:')\n",
    "print(count_by_gender)"
   ]
  },
  {
   "cell_type": "code",
   "execution_count": 75,
   "id": "557f1953",
   "metadata": {},
   "outputs": [
    {
     "data": {
      "image/png": "[encoded data removed]",
      "text/plain": [
       "<Figure size 640x480 with 1 Axes>"
      ]
     },
     "metadata": {},
     "output_type": "display_data"
    }
   ],
   "source": [
    "# Box plot by gender\n",
    "df.boxplot('BASE_SALARY', by='GENDER')\n",
    "plt.show()"
   ]
  },
  {
   "cell_type": "code",
   "execution_count": 51,
   "id": "250ad72b",
   "metadata": {},
   "outputs": [],
   "source": [
    "# Performing t-test between male and female base salaries\n",
    "ttest_result = stats.ttest_ind(df[df['GENDER'] == 'Male']['BASE_SALARY'], df[df['GENDER'] == 'Female']['BASE_SALARY'])"
   ]
  },
  {
   "cell_type": "code",
   "execution_count": 52,
   "id": "0f0d3220",
   "metadata": {},
   "outputs": [
    {
     "name": "stdout",
     "output_type": "stream",
     "text": [
      "T-test p-value for gender pay gap: nan\n"
     ]
    }
   ],
   "source": [
    "print(\"T-test p-value for gender pay gap:\", ttest_result.pvalue)\n",
    "\n",
    "# If p-value is less than significance level (e.g., 0.05), there's evidence of a gender pay gap."
   ]
  },
  {
   "cell_type": "code",
   "execution_count": 53,
   "id": "fa7c9370",
   "metadata": {},
   "outputs": [
    {
     "name": "stdout",
     "output_type": "stream",
     "text": [
      "MEAN_salary_by_race:\n",
      "RACE\n",
      "American Indian or Alaskan Native    59862.630146\n",
      "Asian/Pacific Islander               61550.166946\n",
      "Black or African American            49883.155927\n",
      "Hispanic/Latino                      52473.901602\n",
      "Others                               51278.000000\n",
      "White                                63665.200049\n",
      "Name: BASE_SALARY, dtype: float64\n"
     ]
    }
   ],
   "source": [
    "# Mean base salary by race\n",
    "mean_salary_by_race = race_groups['BASE_SALARY'].mean()\n",
    "print('MEAN_salary_by_race:')\n",
    "print(mean_salary_by_race)"
   ]
  },
  {
   "cell_type": "code",
   "execution_count": 54,
   "id": "52017303",
   "metadata": {},
   "outputs": [
    {
     "name": "stdout",
     "output_type": "stream",
     "text": [
      "MEDIAN_salary_by_race:\n",
      "RACE\n",
      "American Indian or Alaskan Native    58855.0\n",
      "Asian/Pacific Islander               55461.0\n",
      "Black or African American            45989.0\n",
      "Hispanic/Latino                      51194.0\n",
      "Others                               51278.0\n",
      "White                                61921.0\n",
      "Name: BASE_SALARY, dtype: float64\n"
     ]
    }
   ],
   "source": [
    "# Median base salary by race\n",
    "median_salary_by_race = race_groups['BASE_SALARY'].median()\n",
    "print('MEDIAN_salary_by_race:')\n",
    "print(median_salary_by_race)"
   ]
  },
  {
   "cell_type": "code",
   "execution_count": 55,
   "id": "bd29abe5",
   "metadata": {},
   "outputs": [
    {
     "name": "stdout",
     "output_type": "stream",
     "text": [
      "STD_salary_by_race:\n",
      "RACE\n",
      "American Indian or Alaskan Native    21884.861244\n",
      "Asian/Pacific Islander               24955.658770\n",
      "Black or African American            20796.168439\n",
      "Hispanic/Latino                      17776.357431\n",
      "Others                               17687.569025\n",
      "White                                20211.724107\n",
      "Name: BASE_SALARY, dtype: float64\n"
     ]
    }
   ],
   "source": [
    "# Standard deviation of base salary by race\n",
    "std_salary_by_race = race_groups['BASE_SALARY'].std()\n",
    "print('STD_salary_by_race:')\n",
    "print(std_salary_by_race)"
   ]
  },
  {
   "cell_type": "code",
   "execution_count": 56,
   "id": "fb765f4f",
   "metadata": {},
   "outputs": [
    {
     "name": "stdout",
     "output_type": "stream",
     "text": [
      "COUNT_BY_race:\n",
      "RACE\n",
      "American Indian or Alaskan Native     11\n",
      "Asian/Pacific Islander               107\n",
      "Black or African American            735\n",
      "Hispanic/Latino                      480\n",
      "Others                                 2\n",
      "White                                665\n",
      "dtype: int64\n"
     ]
    }
   ],
   "source": [
    "# Number of employees by gender\n",
    "count_by_race = race_groups.size()\n",
    "print('COUNT_BY_race:')\n",
    "print(count_by_race)"
   ]
  },
  {
   "cell_type": "code",
   "execution_count": 57,
   "id": "843f98c8",
   "metadata": {},
   "outputs": [
    {
     "data": {
      "text/plain": [
       "<Axes: title={'center': 'BASE_SALARY'}, xlabel='RACE'>"
      ]
     },
     "execution_count": 57,
     "metadata": {},
     "output_type": "execute_result"
    },
    {
     "data": {
      "image/png": "[encoded data removed]",
      "text/plain": [
       "<Figure size 640x480 with 1 Axes>"
      ]
     },
     "metadata": {},
     "output_type": "display_data"
    }
   ],
   "source": [
    "# Box plot by race\n",
    "df.boxplot('BASE_SALARY', by='RACE')"
   ]
  },
  {
   "cell_type": "code",
   "execution_count": 58,
   "id": "7efd5de6",
   "metadata": {},
   "outputs": [
    {
     "name": "stdout",
     "output_type": "stream",
     "text": [
      "ANOVA p-value for racial pay gap: 1.07925114634825e-36\n"
     ]
    }
   ],
   "source": [
    "# Perform ANOVA test for racial pay gap\n",
    "anova_result = stats.f_oneway(*[group['BASE_SALARY'] for name, group in race_groups])\n",
    "print(\"ANOVA p-value for racial pay gap:\", anova_result.pvalue)\n",
    "\n",
    "#If p-value is less than significance level (e.g., 0.05), there's evidence of a racial pay gap."
   ]
  },
  {
   "cell_type": "markdown",
   "id": "850447ba",
   "metadata": {},
   "source": [
    "# Salary by Department/Position"
   ]
  },
  {
   "cell_type": "code",
   "execution_count": 61,
   "id": "999c7594",
   "metadata": {},
   "outputs": [],
   "source": [
    " #What is the average salary within each department or position title?\n",
    "#to find the average salary for each department\n",
    "average_salary_by_department= df1.groupby('DEPARTMENT')['BASE_SALARY'].mean()"
   ]
  },
  {
   "cell_type": "code",
   "execution_count": 63,
   "id": "ad47f1b0",
   "metadata": {},
   "outputs": [],
   "source": [
    "#to find the average salary for each position\n",
    "average_salary_by_position= df1.groupby('POSITION_TITLE')['BASE_SALARY'].mean()"
   ]
  },
  {
   "cell_type": "code",
   "execution_count": 64,
   "id": "be0dcc57",
   "metadata": {},
   "outputs": [
    {
     "name": "stdout",
     "output_type": "stream",
     "text": [
      "Average Salary within each Department:\n",
      "DEPARTMENT\n",
      "Admn. & Regulatory Affairs         50890.551724\n",
      "City Controller's Office           55711.600000\n",
      "City Council                       58485.351200\n",
      "Convention and Entertainment       38397.000000\n",
      "Dept of Neighborhoods (DON)        47092.882353\n",
      "Finance                            79650.300000\n",
      "Fleet Management Department        43994.305556\n",
      "General Services Department        51295.818182\n",
      "Health & Human Services            51468.188422\n",
      "Housing and Community Devp.        60876.811964\n",
      "Houston Airport System (HAS)       53956.066038\n",
      "Houston Emergency Center (HEC)     46415.739130\n",
      "Houston Fire Department (HFD)      59391.750110\n",
      "Houston Information Tech Svcs      76112.777778\n",
      "Houston Police Department-HPD      59824.082588\n",
      "Human Resources Dept.              56311.833333\n",
      "Legal Department                  104959.529412\n",
      "Library                            45959.238600\n",
      "Mayor's Office                     86489.600000\n",
      "Municipal Courts Department        53889.852257\n",
      "Parks & Recreation                 43334.468925\n",
      "Planning & Development             54879.571429\n",
      "Public Works & Engineering-PWE     50240.227006\n",
      "Solid Waste Management             41591.930233\n",
      "Name: BASE_SALARY, dtype: float64\n"
     ]
    }
   ],
   "source": [
    "#display result of department average salary\n",
    "print('Average Salary within each Department:')\n",
    "print(average_salary_by_department)"
   ]
  },
  {
   "cell_type": "code",
   "execution_count": 65,
   "id": "ec961316",
   "metadata": {},
   "outputs": [
    {
     "name": "stdout",
     "output_type": "stream",
     "text": [
      "Average Salary within each Position title:\n",
      "POSITION_TITLE\n",
      "3-1-1 TELECOMMUNICATOR               35152.000000\n",
      "3-1-1 TELECOMMUNICATOR SUPERVISOR    48755.000000\n",
      "9-1-1 PSAP SUPERVISOR                66144.000000\n",
      "9-1-1 PSAP SUPERVISOR-FIRE/EMS       71032.000000\n",
      "9-1-1 TELECOMMUNICATOR               34335.625000\n",
      "                                         ...     \n",
      "UTILITY WORKER                       33235.325000\n",
      "WATER SERVICE INSPECTOR I            33113.666667\n",
      "WATER SERVICE INSPECTOR II           39416.000000\n",
      "WEB DESIGNER                         58753.333333\n",
      "WORD PROCESSOR                       31845.000000\n",
      "Name: BASE_SALARY, Length: 330, dtype: float64\n"
     ]
    }
   ],
   "source": [
    "#display result of position title average salary\n",
    "print('Average Salary within each Position title:')\n",
    "print(average_salary_by_position)"
   ]
  },
  {
   "cell_type": "code",
   "execution_count": 66,
   "id": "7843d296",
   "metadata": {},
   "outputs": [],
   "source": [
    "#  Are there departments or roles that offer higher salaries compared to others?\n",
    "#to find the department with the highest salary\n",
    "highest_avg_salary_by_department= average_salary_by_department.idxmax()"
   ]
  },
  {
   "cell_type": "code",
   "execution_count": 67,
   "id": "de26c16a",
   "metadata": {},
   "outputs": [],
   "source": [
    "# to find the position or role with the highest salary\n",
    "highest_avg_salary_by_position= average_salary_by_position.idxmax()"
   ]
  },
  {
   "cell_type": "code",
   "execution_count": 70,
   "id": "228d0ad5",
   "metadata": {},
   "outputs": [
    {
     "name": "stdout",
     "output_type": "stream",
     "text": [
      " Department with the Highest Salary:\n",
      "Legal Department\n"
     ]
    }
   ],
   "source": [
    "print(' Department with the Highest Salary:')  #to display the result\n",
    "print(highest_avg_salary_by_department)\n"
   ]
  },
  {
   "cell_type": "code",
   "execution_count": 71,
   "id": "e357c2a9",
   "metadata": {},
   "outputs": [
    {
     "name": "stdout",
     "output_type": "stream",
     "text": [
      " Position with the Highest Salary:\n",
      "CITY ATTORNEY\n"
     ]
    }
   ],
   "source": [
    "print(' Position with the Highest Salary:')  #to display the result\n",
    "print(highest_avg_salary_by_position)"
   ]
  },
  {
   "cell_type": "code",
   "execution_count": null,
   "id": "bc20162a",
   "metadata": {},
   "outputs": [],
   "source": []
  }
 ],
 "metadata": {
  "kernelspec": {
   "display_name": "Python 3 (ipykernel)",
   "language": "python",
   "name": "python3"
  },
  "language_info": {
   "codemirror_mode": {
    "name": "ipython",
    "version": 3
   },
   "file_extension": ".py",
   "mimetype": "text/x-python",
   "name": "python",
   "nbconvert_exporter": "python",
   "pygments_lexer": "ipython3",
   "version": "3.11.3"
  }
 },
 "nbformat": 4,
 "nbformat_minor": 5
}
