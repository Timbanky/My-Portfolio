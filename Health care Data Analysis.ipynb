{
 "cells": [
  {
   "cell_type": "code",
   "execution_count": 4,
   "id": "bff9a1aa",
   "metadata": {},
   "outputs": [],
   "source": [
    "import pandas as pd\n",
    "import matplotlib.pyplot as plt\n",
    "import seaborn as sns"
   ]
  },
  {
   "cell_type": "code",
   "execution_count": 2,
   "id": "3c533edf",
   "metadata": {},
   "outputs": [],
   "source": [
    "df= pd.read_csv('healthcare_dataset.csv')"
   ]
  },
  {
   "cell_type": "code",
   "execution_count": 3,
   "id": "9a85f16e",
   "metadata": {},
   "outputs": [
    {
     "data": {
      "text/html": [
       "<div>\n",
       "<style scoped>\n",
       "    .dataframe tbody tr th:only-of-type {\n",
       "        vertical-align: middle;\n",
       "    }\n",
       "\n",
       "    .dataframe tbody tr th {\n",
       "        vertical-align: top;\n",
       "    }\n",
       "\n",
       "    .dataframe thead th {\n",
       "        text-align: right;\n",
       "    }\n",
       "</style>\n",
       "<table border=\"1\" class=\"dataframe\">\n",
       "  <thead>\n",
       "    <tr style=\"text-align: right;\">\n",
       "      <th></th>\n",
       "      <th>Name</th>\n",
       "      <th>Age</th>\n",
       "      <th>Gender</th>\n",
       "      <th>Blood Type</th>\n",
       "      <th>Medical Condition</th>\n",
       "      <th>Date of Admission</th>\n",
       "      <th>Doctor</th>\n",
       "      <th>Hospital</th>\n",
       "      <th>Insurance Provider</th>\n",
       "      <th>Billing Amount</th>\n",
       "      <th>Room Number</th>\n",
       "      <th>Admission Type</th>\n",
       "      <th>Discharge Date</th>\n",
       "      <th>Medication</th>\n",
       "      <th>Test Results</th>\n",
       "    </tr>\n",
       "  </thead>\n",
       "  <tbody>\n",
       "    <tr>\n",
       "      <th>0</th>\n",
       "      <td>Tiffany Ramirez</td>\n",
       "      <td>81</td>\n",
       "      <td>Female</td>\n",
       "      <td>O-</td>\n",
       "      <td>Diabetes</td>\n",
       "      <td>2022-11-17</td>\n",
       "      <td>Patrick Parker</td>\n",
       "      <td>Wallace-Hamilton</td>\n",
       "      <td>Medicare</td>\n",
       "      <td>37490.983364</td>\n",
       "      <td>146</td>\n",
       "      <td>Elective</td>\n",
       "      <td>2022-12-01</td>\n",
       "      <td>Aspirin</td>\n",
       "      <td>Inconclusive</td>\n",
       "    </tr>\n",
       "    <tr>\n",
       "      <th>1</th>\n",
       "      <td>Ruben Burns</td>\n",
       "      <td>35</td>\n",
       "      <td>Male</td>\n",
       "      <td>O+</td>\n",
       "      <td>Asthma</td>\n",
       "      <td>2023-06-01</td>\n",
       "      <td>Diane Jackson</td>\n",
       "      <td>Burke, Griffin and Cooper</td>\n",
       "      <td>UnitedHealthcare</td>\n",
       "      <td>47304.064845</td>\n",
       "      <td>404</td>\n",
       "      <td>Emergency</td>\n",
       "      <td>2023-06-15</td>\n",
       "      <td>Lipitor</td>\n",
       "      <td>Normal</td>\n",
       "    </tr>\n",
       "    <tr>\n",
       "      <th>2</th>\n",
       "      <td>Chad Byrd</td>\n",
       "      <td>61</td>\n",
       "      <td>Male</td>\n",
       "      <td>B-</td>\n",
       "      <td>Obesity</td>\n",
       "      <td>2019-01-09</td>\n",
       "      <td>Paul Baker</td>\n",
       "      <td>Walton LLC</td>\n",
       "      <td>Medicare</td>\n",
       "      <td>36874.896997</td>\n",
       "      <td>292</td>\n",
       "      <td>Emergency</td>\n",
       "      <td>2019-02-08</td>\n",
       "      <td>Lipitor</td>\n",
       "      <td>Normal</td>\n",
       "    </tr>\n",
       "    <tr>\n",
       "      <th>3</th>\n",
       "      <td>Antonio Frederick</td>\n",
       "      <td>49</td>\n",
       "      <td>Male</td>\n",
       "      <td>B-</td>\n",
       "      <td>Asthma</td>\n",
       "      <td>2020-05-02</td>\n",
       "      <td>Brian Chandler</td>\n",
       "      <td>Garcia Ltd</td>\n",
       "      <td>Medicare</td>\n",
       "      <td>23303.322092</td>\n",
       "      <td>480</td>\n",
       "      <td>Urgent</td>\n",
       "      <td>2020-05-03</td>\n",
       "      <td>Penicillin</td>\n",
       "      <td>Abnormal</td>\n",
       "    </tr>\n",
       "    <tr>\n",
       "      <th>4</th>\n",
       "      <td>Mrs. Brandy Flowers</td>\n",
       "      <td>51</td>\n",
       "      <td>Male</td>\n",
       "      <td>O-</td>\n",
       "      <td>Arthritis</td>\n",
       "      <td>2021-07-09</td>\n",
       "      <td>Dustin Griffin</td>\n",
       "      <td>Jones, Brown and Murray</td>\n",
       "      <td>UnitedHealthcare</td>\n",
       "      <td>18086.344184</td>\n",
       "      <td>477</td>\n",
       "      <td>Urgent</td>\n",
       "      <td>2021-08-02</td>\n",
       "      <td>Paracetamol</td>\n",
       "      <td>Normal</td>\n",
       "    </tr>\n",
       "    <tr>\n",
       "      <th>...</th>\n",
       "      <td>...</td>\n",
       "      <td>...</td>\n",
       "      <td>...</td>\n",
       "      <td>...</td>\n",
       "      <td>...</td>\n",
       "      <td>...</td>\n",
       "      <td>...</td>\n",
       "      <td>...</td>\n",
       "      <td>...</td>\n",
       "      <td>...</td>\n",
       "      <td>...</td>\n",
       "      <td>...</td>\n",
       "      <td>...</td>\n",
       "      <td>...</td>\n",
       "      <td>...</td>\n",
       "    </tr>\n",
       "    <tr>\n",
       "      <th>9995</th>\n",
       "      <td>James Hood</td>\n",
       "      <td>83</td>\n",
       "      <td>Male</td>\n",
       "      <td>A+</td>\n",
       "      <td>Obesity</td>\n",
       "      <td>2022-07-29</td>\n",
       "      <td>Samuel Moody</td>\n",
       "      <td>Wood, Martin and Simmons</td>\n",
       "      <td>UnitedHealthcare</td>\n",
       "      <td>39606.840083</td>\n",
       "      <td>110</td>\n",
       "      <td>Elective</td>\n",
       "      <td>2022-08-02</td>\n",
       "      <td>Ibuprofen</td>\n",
       "      <td>Abnormal</td>\n",
       "    </tr>\n",
       "    <tr>\n",
       "      <th>9996</th>\n",
       "      <td>Stephanie Evans</td>\n",
       "      <td>47</td>\n",
       "      <td>Female</td>\n",
       "      <td>AB+</td>\n",
       "      <td>Arthritis</td>\n",
       "      <td>2022-01-06</td>\n",
       "      <td>Christopher Yates</td>\n",
       "      <td>Nash-Krueger</td>\n",
       "      <td>Blue Cross</td>\n",
       "      <td>5995.717488</td>\n",
       "      <td>244</td>\n",
       "      <td>Emergency</td>\n",
       "      <td>2022-01-29</td>\n",
       "      <td>Ibuprofen</td>\n",
       "      <td>Normal</td>\n",
       "    </tr>\n",
       "    <tr>\n",
       "      <th>9997</th>\n",
       "      <td>Christopher Martinez</td>\n",
       "      <td>54</td>\n",
       "      <td>Male</td>\n",
       "      <td>B-</td>\n",
       "      <td>Arthritis</td>\n",
       "      <td>2022-07-01</td>\n",
       "      <td>Robert Nicholson</td>\n",
       "      <td>Larson and Sons</td>\n",
       "      <td>Blue Cross</td>\n",
       "      <td>49559.202905</td>\n",
       "      <td>312</td>\n",
       "      <td>Elective</td>\n",
       "      <td>2022-07-15</td>\n",
       "      <td>Ibuprofen</td>\n",
       "      <td>Normal</td>\n",
       "    </tr>\n",
       "    <tr>\n",
       "      <th>9998</th>\n",
       "      <td>Amanda Duke</td>\n",
       "      <td>84</td>\n",
       "      <td>Male</td>\n",
       "      <td>A+</td>\n",
       "      <td>Arthritis</td>\n",
       "      <td>2020-02-06</td>\n",
       "      <td>Jamie Lewis</td>\n",
       "      <td>Wilson-Lyons</td>\n",
       "      <td>UnitedHealthcare</td>\n",
       "      <td>25236.344761</td>\n",
       "      <td>420</td>\n",
       "      <td>Urgent</td>\n",
       "      <td>2020-02-26</td>\n",
       "      <td>Penicillin</td>\n",
       "      <td>Normal</td>\n",
       "    </tr>\n",
       "    <tr>\n",
       "      <th>9999</th>\n",
       "      <td>Eric King</td>\n",
       "      <td>20</td>\n",
       "      <td>Male</td>\n",
       "      <td>B-</td>\n",
       "      <td>Arthritis</td>\n",
       "      <td>2023-03-22</td>\n",
       "      <td>Tasha Avila</td>\n",
       "      <td>Torres, Young and Stewart</td>\n",
       "      <td>Aetna</td>\n",
       "      <td>37223.965865</td>\n",
       "      <td>290</td>\n",
       "      <td>Emergency</td>\n",
       "      <td>2023-04-15</td>\n",
       "      <td>Penicillin</td>\n",
       "      <td>Abnormal</td>\n",
       "    </tr>\n",
       "  </tbody>\n",
       "</table>\n",
       "<p>10000 rows × 15 columns</p>\n",
       "</div>"
      ],
      "text/plain": [
       "                      Name  Age  Gender Blood Type Medical Condition  \\\n",
       "0          Tiffany Ramirez   81  Female         O-          Diabetes   \n",
       "1              Ruben Burns   35    Male         O+            Asthma   \n",
       "2                Chad Byrd   61    Male         B-           Obesity   \n",
       "3        Antonio Frederick   49    Male         B-            Asthma   \n",
       "4      Mrs. Brandy Flowers   51    Male         O-         Arthritis   \n",
       "...                    ...  ...     ...        ...               ...   \n",
       "9995            James Hood   83    Male         A+           Obesity   \n",
       "9996       Stephanie Evans   47  Female        AB+         Arthritis   \n",
       "9997  Christopher Martinez   54    Male         B-         Arthritis   \n",
       "9998           Amanda Duke   84    Male         A+         Arthritis   \n",
       "9999             Eric King   20    Male         B-         Arthritis   \n",
       "\n",
       "     Date of Admission             Doctor                   Hospital  \\\n",
       "0           2022-11-17     Patrick Parker           Wallace-Hamilton   \n",
       "1           2023-06-01      Diane Jackson  Burke, Griffin and Cooper   \n",
       "2           2019-01-09         Paul Baker                 Walton LLC   \n",
       "3           2020-05-02     Brian Chandler                 Garcia Ltd   \n",
       "4           2021-07-09     Dustin Griffin    Jones, Brown and Murray   \n",
       "...                ...                ...                        ...   \n",
       "9995        2022-07-29       Samuel Moody   Wood, Martin and Simmons   \n",
       "9996        2022-01-06  Christopher Yates               Nash-Krueger   \n",
       "9997        2022-07-01   Robert Nicholson            Larson and Sons   \n",
       "9998        2020-02-06        Jamie Lewis               Wilson-Lyons   \n",
       "9999        2023-03-22        Tasha Avila  Torres, Young and Stewart   \n",
       "\n",
       "     Insurance Provider  Billing Amount  Room Number Admission Type  \\\n",
       "0              Medicare    37490.983364          146       Elective   \n",
       "1      UnitedHealthcare    47304.064845          404      Emergency   \n",
       "2              Medicare    36874.896997          292      Emergency   \n",
       "3              Medicare    23303.322092          480         Urgent   \n",
       "4      UnitedHealthcare    18086.344184          477         Urgent   \n",
       "...                 ...             ...          ...            ...   \n",
       "9995   UnitedHealthcare    39606.840083          110       Elective   \n",
       "9996         Blue Cross     5995.717488          244      Emergency   \n",
       "9997         Blue Cross    49559.202905          312       Elective   \n",
       "9998   UnitedHealthcare    25236.344761          420         Urgent   \n",
       "9999              Aetna    37223.965865          290      Emergency   \n",
       "\n",
       "     Discharge Date   Medication  Test Results  \n",
       "0        2022-12-01      Aspirin  Inconclusive  \n",
       "1        2023-06-15      Lipitor        Normal  \n",
       "2        2019-02-08      Lipitor        Normal  \n",
       "3        2020-05-03   Penicillin      Abnormal  \n",
       "4        2021-08-02  Paracetamol        Normal  \n",
       "...             ...          ...           ...  \n",
       "9995     2022-08-02    Ibuprofen      Abnormal  \n",
       "9996     2022-01-29    Ibuprofen        Normal  \n",
       "9997     2022-07-15    Ibuprofen        Normal  \n",
       "9998     2020-02-26   Penicillin        Normal  \n",
       "9999     2023-04-15   Penicillin      Abnormal  \n",
       "\n",
       "[10000 rows x 15 columns]"
      ]
     },
     "execution_count": 3,
     "metadata": {},
     "output_type": "execute_result"
    }
   ],
   "source": [
    "df"
   ]
  },
  {
   "cell_type": "code",
   "execution_count": 5,
   "id": "983fedbe",
   "metadata": {},
   "outputs": [
    {
     "name": "stdout",
     "output_type": "stream",
     "text": [
      "<class 'pandas.core.frame.DataFrame'>\n",
      "RangeIndex: 10000 entries, 0 to 9999\n",
      "Data columns (total 15 columns):\n",
      " #   Column              Non-Null Count  Dtype  \n",
      "---  ------              --------------  -----  \n",
      " 0   Name                10000 non-null  object \n",
      " 1   Age                 10000 non-null  int64  \n",
      " 2   Gender              10000 non-null  object \n",
      " 3   Blood Type          10000 non-null  object \n",
      " 4   Medical Condition   10000 non-null  object \n",
      " 5   Date of Admission   10000 non-null  object \n",
      " 6   Doctor              10000 non-null  object \n",
      " 7   Hospital            10000 non-null  object \n",
      " 8   Insurance Provider  10000 non-null  object \n",
      " 9   Billing Amount      10000 non-null  float64\n",
      " 10  Room Number         10000 non-null  int64  \n",
      " 11  Admission Type      10000 non-null  object \n",
      " 12  Discharge Date      10000 non-null  object \n",
      " 13  Medication          10000 non-null  object \n",
      " 14  Test Results        10000 non-null  object \n",
      "dtypes: float64(1), int64(2), object(12)\n",
      "memory usage: 1.1+ MB\n"
     ]
    }
   ],
   "source": [
    "df.info()"
   ]
  },
  {
   "cell_type": "code",
   "execution_count": 6,
   "id": "37bd57eb",
   "metadata": {},
   "outputs": [],
   "source": [
    "df1= df.copy()"
   ]
  },
  {
   "cell_type": "code",
   "execution_count": 8,
   "id": "4b0bcb88",
   "metadata": {},
   "outputs": [
    {
     "data": {
      "text/plain": [
       "51.4522"
      ]
     },
     "execution_count": 8,
     "metadata": {},
     "output_type": "execute_result"
    }
   ],
   "source": [
    "#what is the average age of patient\n",
    "df1['Age'].mean()"
   ]
  },
  {
   "cell_type": "code",
   "execution_count": 9,
   "id": "70351853",
   "metadata": {},
   "outputs": [
    {
     "data": {
      "text/plain": [
       "AB-    1275\n",
       "AB+    1258\n",
       "B-     1252\n",
       "O+     1248\n",
       "O-     1244\n",
       "B+     1244\n",
       "A+     1241\n",
       "A-     1238\n",
       "Name: Blood Type, dtype: int64"
      ]
     },
     "execution_count": 9,
     "metadata": {},
     "output_type": "execute_result"
    }
   ],
   "source": [
    "#what is the distribution of blood type, medical condition and gender\n",
    "df1['Blood Type'].value_counts()"
   ]
  },
  {
   "cell_type": "code",
   "execution_count": 10,
   "id": "7eab969a",
   "metadata": {},
   "outputs": [
    {
     "data": {
      "text/plain": [
       "Asthma          1708\n",
       "Cancer          1703\n",
       "Hypertension    1688\n",
       "Arthritis       1650\n",
       "Obesity         1628\n",
       "Diabetes        1623\n",
       "Name: Medical Condition, dtype: int64"
      ]
     },
     "execution_count": 10,
     "metadata": {},
     "output_type": "execute_result"
    }
   ],
   "source": [
    "df1['Medical Condition'].value_counts()"
   ]
  },
  {
   "cell_type": "code",
   "execution_count": 11,
   "id": "ff0d6582",
   "metadata": {},
   "outputs": [
    {
     "data": {
      "text/plain": [
       "Female    5075\n",
       "Male      4925\n",
       "Name: Gender, dtype: int64"
      ]
     },
     "execution_count": 11,
     "metadata": {},
     "output_type": "execute_result"
    }
   ],
   "source": [
    "df1['Gender'].value_counts()"
   ]
  },
  {
   "cell_type": "code",
   "execution_count": 13,
   "id": "08c2c779",
   "metadata": {},
   "outputs": [
    {
     "data": {
      "text/plain": [
       "9416"
      ]
     },
     "execution_count": 13,
     "metadata": {},
     "output_type": "execute_result"
    }
   ],
   "source": [
    "#how many doctors were available in the hospital\n",
    "df1['Doctor'].value_counts().count() #method 1"
   ]
  },
  {
   "cell_type": "code",
   "execution_count": 14,
   "id": "9cf4dda7",
   "metadata": {},
   "outputs": [
    {
     "data": {
      "text/plain": [
       "9416"
      ]
     },
     "execution_count": 14,
     "metadata": {},
     "output_type": "execute_result"
    }
   ],
   "source": [
    "df1['Doctor'].nunique() #method 2"
   ]
  },
  {
   "cell_type": "code",
   "execution_count": 15,
   "id": "c7b6738b",
   "metadata": {},
   "outputs": [
    {
     "data": {
      "text/plain": [
       "Cigna               2040\n",
       "Blue Cross          2032\n",
       "Aetna               2025\n",
       "UnitedHealthcare    1978\n",
       "Medicare            1925\n",
       "Name: Insurance Provider, dtype: int64"
      ]
     },
     "execution_count": 15,
     "metadata": {},
     "output_type": "execute_result"
    }
   ],
   "source": [
    "#which insurance provider is the most used\n",
    "df1['Insurance Provider'].value_counts() #method 1"
   ]
  },
  {
   "cell_type": "code",
   "execution_count": 22,
   "id": "154e3fb8",
   "metadata": {},
   "outputs": [
    {
     "data": {
      "text/plain": [
       "Insurance Provider\n",
       "Cigna               2040\n",
       "Blue Cross          2032\n",
       "Aetna               2025\n",
       "UnitedHealthcare    1978\n",
       "Medicare            1925\n",
       "Name: Room Number, dtype: int64"
      ]
     },
     "execution_count": 22,
     "metadata": {},
     "output_type": "execute_result"
    }
   ],
   "source": [
    "df1.groupby('Insurance Provider')['Room Number'].count().sort_values(ascending= False) #method 2"
   ]
  },
  {
   "cell_type": "code",
   "execution_count": 26,
   "id": "26135c3f",
   "metadata": {},
   "outputs": [
    {
     "data": {
      "image/png": "[encoded data removed]",
      "text/plain": [
       "<Figure size 640x480 with 1 Axes>"
      ]
     },
     "metadata": {},
     "output_type": "display_data"
    }
   ],
   "source": [
    "#which medical condition has the average highest billing\n",
    "round(df1.groupby('Medical Condition')['Billing Amount'].mean(),2).sort_values(ascending= False).plot(kind='bar', color='k')\n",
    "plt.title('Average highest billing by Medical Condition' , fontsize = 10) #default is 12\n",
    "#xlabel\n",
    "plt.xlabel('Medical Condition', fontsize= 8)\n",
    "#ylabel\n",
    "plt.ylabel('Average billing amount', fontsize= 8)\n",
    "#rotate xticks\n",
    "plt.xticks(rotation = 0);"
   ]
  },
  {
   "cell_type": "code",
   "execution_count": 30,
   "id": "fed20ab0",
   "metadata": {},
   "outputs": [],
   "source": [
    "order_of_bars=round(df1.groupby('Medical Condition')['Billing Amount'].mean(),2).sort_values(ascending= False).index"
   ]
  },
  {
   "cell_type": "code",
   "execution_count": 37,
   "id": "93926154",
   "metadata": {},
   "outputs": [
    {
     "data": {
      "text/plain": [
       "<Axes: xlabel='Medical Condition', ylabel='Billing Amount'>"
      ]
     },
     "execution_count": 37,
     "metadata": {},
     "output_type": "execute_result"
    },
    {
     "data": {
      "image/png": "[encoded data removed]",
      "text/plain": [
       "<Figure size 600x300 with 1 Axes>"
      ]
     },
     "metadata": {},
     "output_type": "display_data"
    }
   ],
   "source": [
    "plt.figure(figsize = (6,3))\n",
    "sns.barplot(x=df1['Medical Condition'], y=df1['Billing Amount'],hue=df1['Gender'],\n",
    "            order= order_of_bars,\n",
    "            palette='spring',\n",
    "            errorbar=None)     #base on gender"
   ]
  },
  {
   "cell_type": "code",
   "execution_count": 40,
   "id": "f30f7ef3",
   "metadata": {},
   "outputs": [
    {
     "data": {
      "image/png": "[encoded data removed]",
      "text/plain": [
       "<Figure size 1000x400 with 1 Axes>"
      ]
     },
     "metadata": {},
     "output_type": "display_data"
    }
   ],
   "source": [
    "#show gender distribution by blood type\n",
    "plt.figure(figsize= (10,4))\n",
    "ax=sns.countplot(x=df1['Blood Type'], hue=df['Gender'])\n",
    "for i in ax.containers:\n",
    "  ax.bar_label(i,)"
   ]
  },
  {
   "cell_type": "code",
   "execution_count": 41,
   "id": "c75dfb87",
   "metadata": {},
   "outputs": [
    {
     "name": "stdout",
     "output_type": "stream",
     "text": [
      "<class 'pandas.core.frame.DataFrame'>\n",
      "RangeIndex: 10000 entries, 0 to 9999\n",
      "Data columns (total 15 columns):\n",
      " #   Column              Non-Null Count  Dtype  \n",
      "---  ------              --------------  -----  \n",
      " 0   Name                10000 non-null  object \n",
      " 1   Age                 10000 non-null  int64  \n",
      " 2   Gender              10000 non-null  object \n",
      " 3   Blood Type          10000 non-null  object \n",
      " 4   Medical Condition   10000 non-null  object \n",
      " 5   Date of Admission   10000 non-null  object \n",
      " 6   Doctor              10000 non-null  object \n",
      " 7   Hospital            10000 non-null  object \n",
      " 8   Insurance Provider  10000 non-null  object \n",
      " 9   Billing Amount      10000 non-null  float64\n",
      " 10  Room Number         10000 non-null  int64  \n",
      " 11  Admission Type      10000 non-null  object \n",
      " 12  Discharge Date      10000 non-null  object \n",
      " 13  Medication          10000 non-null  object \n",
      " 14  Test Results        10000 non-null  object \n",
      "dtypes: float64(1), int64(2), object(12)\n",
      "memory usage: 1.1+ MB\n"
     ]
    }
   ],
   "source": [
    "df.info()"
   ]
  },
  {
   "cell_type": "code",
   "execution_count": 44,
   "id": "4a2f06d0",
   "metadata": {},
   "outputs": [],
   "source": [
    "df1['Date of Admission']= pd.to_datetime(df1['Date of Admission'])\n",
    "df1['Discharge Date']= pd.to_datetime(df1['Discharge Date'])"
   ]
  },
  {
   "cell_type": "code",
   "execution_count": 45,
   "id": "6684a3e7",
   "metadata": {},
   "outputs": [
    {
     "name": "stdout",
     "output_type": "stream",
     "text": [
      "<class 'pandas.core.frame.DataFrame'>\n",
      "RangeIndex: 10000 entries, 0 to 9999\n",
      "Data columns (total 15 columns):\n",
      " #   Column              Non-Null Count  Dtype         \n",
      "---  ------              --------------  -----         \n",
      " 0   Name                10000 non-null  object        \n",
      " 1   Age                 10000 non-null  int64         \n",
      " 2   Gender              10000 non-null  object        \n",
      " 3   Blood Type          10000 non-null  object        \n",
      " 4   Medical Condition   10000 non-null  object        \n",
      " 5   Date of Admission   10000 non-null  datetime64[ns]\n",
      " 6   Doctor              10000 non-null  object        \n",
      " 7   Hospital            10000 non-null  object        \n",
      " 8   Insurance Provider  10000 non-null  object        \n",
      " 9   Billing Amount      10000 non-null  float64       \n",
      " 10  Room Number         10000 non-null  int64         \n",
      " 11  Admission Type      10000 non-null  object        \n",
      " 12  Discharge Date      10000 non-null  datetime64[ns]\n",
      " 13  Medication          10000 non-null  object        \n",
      " 14  Test Results        10000 non-null  object        \n",
      "dtypes: datetime64[ns](2), float64(1), int64(2), object(10)\n",
      "memory usage: 1.1+ MB\n"
     ]
    }
   ],
   "source": [
    "df1.info()"
   ]
  },
  {
   "cell_type": "code",
   "execution_count": 47,
   "id": "a64b44b8",
   "metadata": {},
   "outputs": [],
   "source": [
    "df1['Year of Admission']= df1['Date of Admission'].dt.year\n",
    "df1['Year of Discharge']= df1['Discharge Date'].dt.year"
   ]
  },
  {
   "cell_type": "code",
   "execution_count": 48,
   "id": "e062e653",
   "metadata": {},
   "outputs": [
    {
     "data": {
      "text/html": [
       "<div>\n",
       "<style scoped>\n",
       "    .dataframe tbody tr th:only-of-type {\n",
       "        vertical-align: middle;\n",
       "    }\n",
       "\n",
       "    .dataframe tbody tr th {\n",
       "        vertical-align: top;\n",
       "    }\n",
       "\n",
       "    .dataframe thead th {\n",
       "        text-align: right;\n",
       "    }\n",
       "</style>\n",
       "<table border=\"1\" class=\"dataframe\">\n",
       "  <thead>\n",
       "    <tr style=\"text-align: right;\">\n",
       "      <th></th>\n",
       "      <th>Name</th>\n",
       "      <th>Age</th>\n",
       "      <th>Gender</th>\n",
       "      <th>Blood Type</th>\n",
       "      <th>Medical Condition</th>\n",
       "      <th>Date of Admission</th>\n",
       "      <th>Doctor</th>\n",
       "      <th>Hospital</th>\n",
       "      <th>Insurance Provider</th>\n",
       "      <th>Billing Amount</th>\n",
       "      <th>Room Number</th>\n",
       "      <th>Admission Type</th>\n",
       "      <th>Discharge Date</th>\n",
       "      <th>Medication</th>\n",
       "      <th>Test Results</th>\n",
       "      <th>Year of Admission</th>\n",
       "      <th>Year of Discharge</th>\n",
       "    </tr>\n",
       "  </thead>\n",
       "  <tbody>\n",
       "    <tr>\n",
       "      <th>0</th>\n",
       "      <td>Tiffany Ramirez</td>\n",
       "      <td>81</td>\n",
       "      <td>Female</td>\n",
       "      <td>O-</td>\n",
       "      <td>Diabetes</td>\n",
       "      <td>2022-11-17</td>\n",
       "      <td>Patrick Parker</td>\n",
       "      <td>Wallace-Hamilton</td>\n",
       "      <td>Medicare</td>\n",
       "      <td>37490.983364</td>\n",
       "      <td>146</td>\n",
       "      <td>Elective</td>\n",
       "      <td>2022-12-01</td>\n",
       "      <td>Aspirin</td>\n",
       "      <td>Inconclusive</td>\n",
       "      <td>2022</td>\n",
       "      <td>2022</td>\n",
       "    </tr>\n",
       "    <tr>\n",
       "      <th>1</th>\n",
       "      <td>Ruben Burns</td>\n",
       "      <td>35</td>\n",
       "      <td>Male</td>\n",
       "      <td>O+</td>\n",
       "      <td>Asthma</td>\n",
       "      <td>2023-06-01</td>\n",
       "      <td>Diane Jackson</td>\n",
       "      <td>Burke, Griffin and Cooper</td>\n",
       "      <td>UnitedHealthcare</td>\n",
       "      <td>47304.064845</td>\n",
       "      <td>404</td>\n",
       "      <td>Emergency</td>\n",
       "      <td>2023-06-15</td>\n",
       "      <td>Lipitor</td>\n",
       "      <td>Normal</td>\n",
       "      <td>2023</td>\n",
       "      <td>2023</td>\n",
       "    </tr>\n",
       "  </tbody>\n",
       "</table>\n",
       "</div>"
      ],
      "text/plain": [
       "              Name  Age  Gender Blood Type Medical Condition  \\\n",
       "0  Tiffany Ramirez   81  Female         O-          Diabetes   \n",
       "1      Ruben Burns   35    Male         O+            Asthma   \n",
       "\n",
       "  Date of Admission          Doctor                   Hospital  \\\n",
       "0        2022-11-17  Patrick Parker           Wallace-Hamilton   \n",
       "1        2023-06-01   Diane Jackson  Burke, Griffin and Cooper   \n",
       "\n",
       "  Insurance Provider  Billing Amount  Room Number Admission Type  \\\n",
       "0           Medicare    37490.983364          146       Elective   \n",
       "1   UnitedHealthcare    47304.064845          404      Emergency   \n",
       "\n",
       "  Discharge Date Medication  Test Results  Year of Admission  \\\n",
       "0     2022-12-01    Aspirin  Inconclusive               2022   \n",
       "1     2023-06-15    Lipitor        Normal               2023   \n",
       "\n",
       "   Year of Discharge  \n",
       "0               2022  \n",
       "1               2023  "
      ]
     },
     "execution_count": 48,
     "metadata": {},
     "output_type": "execute_result"
    }
   ],
   "source": [
    "df1.head(2)"
   ]
  },
  {
   "cell_type": "code",
   "execution_count": 49,
   "id": "81dbf568",
   "metadata": {},
   "outputs": [
    {
     "data": {
      "text/plain": [
       "2021    2063\n",
       "2020    2044\n",
       "2022    2001\n",
       "2019    1973\n",
       "2023    1616\n",
       "2018     303\n",
       "Name: Year of Admission, dtype: int64"
      ]
     },
     "execution_count": 49,
     "metadata": {},
     "output_type": "execute_result"
    }
   ],
   "source": [
    "df1['Year of Admission'].value_counts()"
   ]
  },
  {
   "cell_type": "code",
   "execution_count": 52,
   "id": "ec24f3d2",
   "metadata": {},
   "outputs": [
    {
     "data": {
      "text/plain": [
       "Year of Discharge\n",
       "2020    5.275087e+07\n",
       "2021    5.261205e+07\n",
       "2022    5.210693e+07\n",
       "2019    4.975662e+07\n",
       "2023    4.251913e+07\n",
       "2018    5.422484e+06\n",
       "Name: Billing Amount, dtype: float64"
      ]
     },
     "execution_count": 52,
     "metadata": {},
     "output_type": "execute_result"
    }
   ],
   "source": [
    "#total revenue by year ==>year of discharge by total billing amount\n",
    "df1.groupby('Year of Discharge')['Billing Amount'].sum().sort_values(ascending=False)"
   ]
  },
  {
   "cell_type": "code",
   "execution_count": 51,
   "id": "95fcd59d",
   "metadata": {},
   "outputs": [
    {
     "data": {
      "text/plain": [
       "<Axes: xlabel='Year of Admission', ylabel='Billing Amount'>"
      ]
     },
     "execution_count": 51,
     "metadata": {},
     "output_type": "execute_result"
    },
    {
     "data": {
      "image/png": "[encoded data removed]",
      "text/plain": [
       "<Figure size 640x480 with 1 Axes>"
      ]
     },
     "metadata": {},
     "output_type": "display_data"
    }
   ],
   "source": [
    "sns.lineplot(x=df1['Year of Admission'], y=df1['Billing Amount'], estimator=sum)"
   ]
  },
  {
   "cell_type": "code",
   "execution_count": null,
   "id": "7d3931d2",
   "metadata": {},
   "outputs": [],
   "source": []
  }
 ],
 "metadata": {
  "kernelspec": {
   "display_name": "Python 3 (ipykernel)",
   "language": "python",
   "name": "python3"
  },
  "language_info": {
   "codemirror_mode": {
    "name": "ipython",
    "version": 3
   },
   "file_extension": ".py",
   "mimetype": "text/x-python",
   "name": "python",
   "nbconvert_exporter": "python",
   "pygments_lexer": "ipython3",
   "version": "3.11.3"
  }
 },
 "nbformat": 4,
 "nbformat_minor": 5
}
